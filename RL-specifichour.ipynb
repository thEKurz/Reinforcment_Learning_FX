{
 "cells": [
  {
   "cell_type": "markdown",
   "metadata": {
    "pycharm": {
     "name": "#%% md\n"
    }
   },
   "source": [
    "# RL"
   ]
  },
  {
   "cell_type": "code",
   "execution_count": 1,
   "metadata": {
    "pycharm": {
     "name": "#%%\n"
    }
   },
   "outputs": [],
   "source": [
    "## first, import the libraries we are going to use\n",
    "\n",
    "import matplotlib.pyplot as plt\n",
    "import sys\n",
    "import numpy as np \n",
    "import math\n",
    "import decimal\n",
    "from collections import namedtuple\n",
    "import pypfopt as pyp\n",
    "\n",
    "import time\n",
    "import random\n",
    "import pandas as pd\n",
    "import seaborn as sns\n",
    "import json"
   ]
  },
  {
   "cell_type": "code",
   "execution_count": 2,
   "metadata": {
    "pycharm": {
     "name": "#%%\n"
    }
   },
   "outputs": [],
   "source": [
    "minute_df_usd_price_est = pd.read_csv('minute_data_mid_usd_est.csv', index_col=0)\n",
    "minute_df_usd_price_est = minute_df_usd_price_est[['USD.EUR.SPOT','USD.CAD.SPOT','USD.JPY.SPOT']]\n",
    "minute_df_usd_price_est = minute_df_usd_price_est.ffill()\n",
    "minute_df_usd_price_est.index = pd.to_datetime(minute_df_usd_price_est.index)"
   ]
  },
  {
   "cell_type": "code",
   "execution_count": 3,
   "metadata": {
    "pycharm": {
     "name": "#%%\n"
    }
   },
   "outputs": [],
   "source": [
    "ret_df = minute_df_usd_price_est.pct_change()\n",
    "ret_df_bps = ret_df*10000"
   ]
  },
  {
   "cell_type": "code",
   "execution_count": 4,
   "metadata": {
    "pycharm": {
     "name": "#%%\n"
    }
   },
   "outputs": [],
   "source": [
    "hour_start = minute_df_usd_price_est.iloc[::60, :]"
   ]
  },
  {
   "cell_type": "code",
   "execution_count": 5,
   "metadata": {
    "pycharm": {
     "name": "#%%\n"
    }
   },
   "outputs": [],
   "source": [
    "hour_start_train = hour_start[hour_start.index < pd.Timestamp(2022,5,1)]\n",
    "hour_start_backtest = hour_start[(hour_start.index >= pd.Timestamp(2022,5,1)) & (hour_start.index < pd.Timestamp(2022,6,1))]\n",
    "hour_start_test = hour_start[(hour_start.index >= pd.Timestamp(2022,6,1))]"
   ]
  },
  {
   "cell_type": "code",
   "execution_count": 6,
   "metadata": {
    "pycharm": {
     "name": "#%%\n"
    }
   },
   "outputs": [
    {
     "data": {
      "text/html": [
       "<div>\n",
       "<style scoped>\n",
       "    .dataframe tbody tr th:only-of-type {\n",
       "        vertical-align: middle;\n",
       "    }\n",
       "\n",
       "    .dataframe tbody tr th {\n",
       "        vertical-align: top;\n",
       "    }\n",
       "\n",
       "    .dataframe thead th {\n",
       "        text-align: right;\n",
       "    }\n",
       "</style>\n",
       "<table border=\"1\" class=\"dataframe\">\n",
       "  <thead>\n",
       "    <tr style=\"text-align: right;\">\n",
       "      <th></th>\n",
       "      <th>USD.EUR.SPOT</th>\n",
       "      <th>USD.CAD.SPOT</th>\n",
       "      <th>USD.JPY.SPOT</th>\n",
       "    </tr>\n",
       "    <tr>\n",
       "      <th>time_est</th>\n",
       "      <th></th>\n",
       "      <th></th>\n",
       "      <th></th>\n",
       "    </tr>\n",
       "  </thead>\n",
       "  <tbody>\n",
       "    <tr>\n",
       "      <th>2022-01-02 18:00:00</th>\n",
       "      <td>1.137645</td>\n",
       "      <td>0.791258</td>\n",
       "      <td>0.008687</td>\n",
       "    </tr>\n",
       "    <tr>\n",
       "      <th>2022-01-02 19:00:00</th>\n",
       "      <td>1.137330</td>\n",
       "      <td>0.789999</td>\n",
       "      <td>0.008685</td>\n",
       "    </tr>\n",
       "    <tr>\n",
       "      <th>2022-01-02 20:00:00</th>\n",
       "      <td>1.136160</td>\n",
       "      <td>0.790267</td>\n",
       "      <td>0.008675</td>\n",
       "    </tr>\n",
       "    <tr>\n",
       "      <th>2022-01-02 21:00:00</th>\n",
       "      <td>1.135710</td>\n",
       "      <td>0.789777</td>\n",
       "      <td>0.008678</td>\n",
       "    </tr>\n",
       "    <tr>\n",
       "      <th>2022-01-02 22:00:00</th>\n",
       "      <td>1.134250</td>\n",
       "      <td>0.789092</td>\n",
       "      <td>0.008675</td>\n",
       "    </tr>\n",
       "    <tr>\n",
       "      <th>...</th>\n",
       "      <td>...</td>\n",
       "      <td>...</td>\n",
       "      <td>...</td>\n",
       "    </tr>\n",
       "    <tr>\n",
       "      <th>2022-04-29 12:00:00</th>\n",
       "      <td>1.053635</td>\n",
       "      <td>0.780930</td>\n",
       "      <td>0.007702</td>\n",
       "    </tr>\n",
       "    <tr>\n",
       "      <th>2022-04-29 13:00:00</th>\n",
       "      <td>1.055030</td>\n",
       "      <td>0.780323</td>\n",
       "      <td>0.007711</td>\n",
       "    </tr>\n",
       "    <tr>\n",
       "      <th>2022-04-29 14:00:00</th>\n",
       "      <td>1.057235</td>\n",
       "      <td>0.780582</td>\n",
       "      <td>0.007723</td>\n",
       "    </tr>\n",
       "    <tr>\n",
       "      <th>2022-04-29 15:00:00</th>\n",
       "      <td>1.056880</td>\n",
       "      <td>0.779232</td>\n",
       "      <td>0.007725</td>\n",
       "    </tr>\n",
       "    <tr>\n",
       "      <th>2022-04-29 16:00:00</th>\n",
       "      <td>1.054790</td>\n",
       "      <td>0.778407</td>\n",
       "      <td>0.007705</td>\n",
       "    </tr>\n",
       "  </tbody>\n",
       "</table>\n",
       "<p>1863 rows × 3 columns</p>\n",
       "</div>"
      ],
      "text/plain": [
       "                     USD.EUR.SPOT  USD.CAD.SPOT  USD.JPY.SPOT\n",
       "time_est                                                     \n",
       "2022-01-02 18:00:00      1.137645      0.791258      0.008687\n",
       "2022-01-02 19:00:00      1.137330      0.789999      0.008685\n",
       "2022-01-02 20:00:00      1.136160      0.790267      0.008675\n",
       "2022-01-02 21:00:00      1.135710      0.789777      0.008678\n",
       "2022-01-02 22:00:00      1.134250      0.789092      0.008675\n",
       "...                           ...           ...           ...\n",
       "2022-04-29 12:00:00      1.053635      0.780930      0.007702\n",
       "2022-04-29 13:00:00      1.055030      0.780323      0.007711\n",
       "2022-04-29 14:00:00      1.057235      0.780582      0.007723\n",
       "2022-04-29 15:00:00      1.056880      0.779232      0.007725\n",
       "2022-04-29 16:00:00      1.054790      0.778407      0.007705\n",
       "\n",
       "[1863 rows x 3 columns]"
      ]
     },
     "execution_count": 6,
     "metadata": {},
     "output_type": "execute_result"
    }
   ],
   "source": [
    "hour_start_train"
   ]
  },
  {
   "cell_type": "code",
   "execution_count": 7,
   "metadata": {
    "pycharm": {
     "name": "#%%\n"
    }
   },
   "outputs": [],
   "source": [
    "def runif(): \n",
    "    \"\"\"uniform random number generator\"\"\"\n",
    "    return np.random.uniform(0, 1, 1)[0]"
   ]
  },
  {
   "cell_type": "code",
   "execution_count": 8,
   "metadata": {
    "pycharm": {
     "name": "#%%\n"
    }
   },
   "outputs": [],
   "source": [
    "def index_list(L): \n",
    "    \"\"\"from a list, build a dictionary which list element to position\"\"\"\n",
    "    return dict(zip(L, [x for x in range(0, len(L))]))"
   ]
  },
  {
   "cell_type": "code",
   "execution_count": 9,
   "metadata": {
    "pycharm": {
     "name": "#%%\n"
    }
   },
   "outputs": [],
   "source": [
    "Action = namedtuple('Action', ['weight'])\n",
    "State = namedtuple('State', ['hour'])"
   ]
  },
  {
   "cell_type": "code",
   "execution_count": 63,
   "metadata": {
    "pycharm": {
     "name": "#%%\n"
    }
   },
   "outputs": [],
   "source": [
    "weightOptions = [(1/3,1/3,1/3),(1/2,1/4,1/4),(1/4,1/2,1/4),(1/4,1/4,1/2)]\n",
    "# weightOptions = [(1/3,1/3,1/3),(1/10,1/10,8/10),(1/10,8/10,1/10),(8/10,1/10,1/10)]\n",
    "# weightOptions = [(1,0,0),(0,1,0),(0,0,1)]\n",
    "# weightOptions = [(1/3,1/3,1/3),(1,0,0),(0,1,0),(0,0,1)]\n",
    "\n",
    "actionSpace = [Action(w) for w in weightOptions]\n",
    "\n",
    "hours = np.arange(24)\n",
    "hours = np.delete(hours,17)\n",
    "stateSpace = [State(h) for h in hours]"
   ]
  },
  {
   "cell_type": "code",
   "execution_count": 64,
   "metadata": {
    "pycharm": {
     "name": "#%%\n"
    }
   },
   "outputs": [],
   "source": [
    "alpha = 0.01 ## learning rate\n",
    "\n",
    "class TabularQLearner:\n",
    "    def __init__(self, act_space, state_space, eps=0.1):\n",
    "        self.actions = act_space\n",
    "        self.states = state_space\n",
    "        self.lookup = index_list(state_space)\n",
    "        self.Q = np.zeros((len(self.states), len(self.actions)))\n",
    "        self.epsilon = eps\n",
    "        self.action_lookup = index_list(act_space)\n",
    "        self.zero_trade = self.action_lookup[act_space[0]]\n",
    "\n",
    "    def __greedy_action_index(self, state_index):\n",
    "        \"\"\"calculate the integer for indexing into self.Q or self.actions of the greedy action\"\"\"\n",
    "        q = self.Q[state_index]\n",
    "        if not np.any(q):\n",
    "            return self.zero_trade\n",
    "        else:\n",
    "            return np.argmax(q)\n",
    "\n",
    "    def greedy_action(self, state):\n",
    "        \"\"\"calculate the actual greedy action, not just its index\"\"\"\n",
    "        return self.actions[self.__greedy_action_index(self.lookup[state])]\n",
    "\n",
    "    def maxQ(self, state):\n",
    "        return max(self.Q[self.lookup[state]])\n",
    "\n",
    "    def train(self, hour_start):\n",
    "        for h in range(len(hour_start)-1):\n",
    "            curr = State(hour_start.index[h].hour)\n",
    "            i = self.lookup[curr]\n",
    "\n",
    "            rand = runif()\n",
    "            # with probability epsilon, select action randomly from amongst all available actions with equal probability\n",
    "            if rand <= self.epsilon:\n",
    "                a = random.choice(self.actions)\n",
    "            else:\n",
    "                a = self.greedy_action(curr)\n",
    "            j = self.action_lookup[a]\n",
    "            \n",
    "            # for reward calculation\n",
    "            train_df = ret_df[(ret_df.index <= hour_start.index[h+1]) & (ret_df.index > hour_start.index[h])]\n",
    "            \n",
    "            train_performance = list(a.weight)*train_df\n",
    "            train_port = train_performance.sum(axis=1)\n",
    "            reward = -train_port.var()\n",
    "            \n",
    "            self.Q[i,j] = self.Q[i,j] + alpha * (reward - self.Q[i,j])"
   ]
  },
  {
   "cell_type": "code",
   "execution_count": 65,
   "metadata": {
    "pycharm": {
     "name": "#%%\n"
    }
   },
   "outputs": [],
   "source": [
    "learner = TabularQLearner(actionSpace, stateSpace, eps=0.1)\n",
    "learner.train(hour_start_train)"
   ]
  },
  {
   "cell_type": "code",
   "execution_count": 34,
   "metadata": {
    "pycharm": {
     "name": "#%%\n"
    }
   },
   "outputs": [
    {
     "data": {
      "text/plain": [
       "array([[-6.23067872e-09, -5.27096389e-09, -1.40486892e-08],\n",
       "       [-8.53691628e-09, -7.97253026e-09, -7.47464493e-09],\n",
       "       [-1.51683253e-08, -1.41270535e-08, -2.05993244e-08],\n",
       "       [-2.13557094e-08, -1.88574068e-08, -1.97886852e-08],\n",
       "       [-1.71278865e-08, -1.42815748e-08, -1.54717878e-08],\n",
       "       [-1.32372524e-08, -1.14130005e-08, -1.30388439e-08],\n",
       "       [-1.26870956e-08, -1.16185651e-08, -1.82849594e-08],\n",
       "       [-2.00786731e-08, -1.89237528e-08, -2.01245149e-08],\n",
       "       [-3.70265828e-08, -3.24337173e-08, -3.56410669e-08],\n",
       "       [-3.73821453e-08, -3.24796497e-08, -3.21192145e-08],\n",
       "       [-4.19877833e-08, -3.85412475e-08, -4.25710569e-08],\n",
       "       [-2.17712860e-08, -2.20349860e-08, -3.61262140e-08],\n",
       "       [-1.56960574e-08, -1.61894848e-08, -1.58741539e-08],\n",
       "       [-1.61204869e-08, -1.21383208e-08, -1.28749587e-08],\n",
       "       [-2.13783904e-08, -1.83399182e-08, -1.99781555e-08],\n",
       "       [-8.65038230e-09, -8.44281110e-09, -9.27383401e-09],\n",
       "       [-1.29153518e-08, -2.30204666e-08, -3.84682940e-08],\n",
       "       [-6.40657959e-09, -5.07214947e-09, -8.01367727e-09],\n",
       "       [-1.09808432e-08, -6.11087662e-09, -1.33380388e-08],\n",
       "       [-1.28154230e-08, -1.19607764e-08, -1.59732920e-08],\n",
       "       [-1.06134192e-08, -1.02829711e-08, -1.07510893e-08],\n",
       "       [-1.19943405e-08, -7.46584955e-09, -7.65611235e-09],\n",
       "       [-7.84331978e-09, -6.63710326e-09, -3.32247481e-08]])"
      ]
     },
     "execution_count": 34,
     "metadata": {},
     "output_type": "execute_result"
    }
   ],
   "source": [
    "learner.Q"
   ]
  },
  {
   "cell_type": "code",
   "execution_count": 66,
   "metadata": {
    "pycharm": {
     "name": "#%%\n"
    }
   },
   "outputs": [],
   "source": [
    "qfunction = pd.DataFrame(columns=['hour', 'optimal_weight_eur', 'optimal_weight_cad', 'optimal_weight_jpy'])\n",
    "for s in stateSpace:\n",
    "    optimal_weight = learner.greedy_action(s).weight\n",
    "    qfunction = qfunction.append({'hour': s.hour, 'optimal_weight_eur': optimal_weight[0], 'optimal_weight_cad': optimal_weight[1], 'optimal_weight_jpy': optimal_weight[2]}, ignore_index = True)\n",
    "    "
   ]
  },
  {
   "cell_type": "code",
   "execution_count": 67,
   "metadata": {
    "pycharm": {
     "name": "#%%\n"
    }
   },
   "outputs": [
    {
     "data": {
      "image/png": "[encoded data removed]",
      "text/plain": [
       "<Figure size 432x288 with 1 Axes>"
      ]
     },
     "metadata": {
      "needs_background": "light"
     },
     "output_type": "display_data"
    }
   ],
   "source": [
    "ax = qfunction.set_index('hour').plot(kind='bar',stacked=True)\n",
    "lgd = ax.legend(loc='center left', bbox_to_anchor=(1, 0.5))\n",
    "ax.figure.savefig('RL-specifichour_'+str(weightOptions)+'.png', bbox_extra_artists=(lgd,), bbox_inches='tight')\n",
    "plt.show()"
   ]
  },
  {
   "cell_type": "code",
   "execution_count": 28,
   "metadata": {
    "pycharm": {
     "name": "#%%\n"
    }
   },
   "outputs": [
    {
     "data": {
      "text/plain": [
       "0    0.077515\n",
       "dtype: float64"
      ]
     },
     "execution_count": 28,
     "metadata": {},
     "output_type": "execute_result"
    }
   ],
   "source": [
    "test_return = pd.DataFrame()\n",
    "for h in range(len(hour_start_test)-1):\n",
    "    curr = State(hour_start_test.index[h].hour)\n",
    "    optimal_weight = learner.greedy_action(curr).weight\n",
    "    \n",
    "    test_df = ret_df[(ret_df.index <= hour_start_test.index[h+1]) & (ret_df.index > hour_start_test.index[h])]\n",
    "\n",
    "    test_performance = list(optimal_weight)*test_df\n",
    "    test_port = test_performance.sum(axis=1)\n",
    "    test_return = test_return.append(pd.DataFrame(test_port))\n",
    "\n",
    "test_return.std()*np.sqrt(23*60*252)"
   ]
  }
 ],
 "metadata": {
  "kernelspec": {
   "display_name": "Python 3 (ipykernel)",
   "language": "python",
   "name": "python3"
  },
  "language_info": {
   "codemirror_mode": {
    "name": "ipython",
    "version": 3
   },
   "file_extension": ".py",
   "mimetype": "text/x-python",
   "name": "python",
   "nbconvert_exporter": "python",
   "pygments_lexer": "ipython3",
   "version": "3.9.7"
  }
 },
 "nbformat": 4,
 "nbformat_minor": 2
}