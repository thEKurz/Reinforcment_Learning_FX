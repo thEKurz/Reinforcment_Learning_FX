{
 "cells": [
  {
   "cell_type": "markdown",
   "metadata": {},
   "source": [
    "# RL"
   ]
  },
  {
   "cell_type": "code",
   "execution_count": 1,
   "metadata": {},
   "outputs": [],
   "source": [
    "## first, import the libraries we are going to use\n",
    "\n",
    "import matplotlib.pyplot as plt\n",
    "import sys\n",
    "import numpy as np \n",
    "import math\n",
    "import decimal\n",
    "from collections import namedtuple\n",
    "import pypfopt as pyp\n",
    "\n",
    "import time\n",
    "import random\n",
    "import pandas as pd\n",
    "import seaborn as sns"
   ]
  },
  {
   "cell_type": "code",
   "execution_count": 2,
   "metadata": {},
   "outputs": [],
   "source": [
    "minute_df_usd_price_est = pd.read_csv('minute_data_mid_usd_est.csv', index_col=0)\n",
    "minute_df_usd_price_est = minute_df_usd_price_est[['USD.EUR.SPOT','USD.CAD.SPOT','USD.JPY.SPOT']]\n",
    "minute_df_usd_price_est = minute_df_usd_price_est.ffill()\n",
    "minute_df_usd_price_est.index = pd.to_datetime(minute_df_usd_price_est.index)"
   ]
  },
  {
   "cell_type": "code",
   "execution_count": 3,
   "metadata": {},
   "outputs": [],
   "source": [
    "ret_df = minute_df_usd_price_est.pct_change()\n",
    "ret_df_bps = ret_df*10000"
   ]
  },
  {
   "cell_type": "code",
   "execution_count": 4,
   "metadata": {},
   "outputs": [
    {
     "data": {
      "text/html": [
       "<div>\n",
       "<style scoped>\n",
       "    .dataframe tbody tr th:only-of-type {\n",
       "        vertical-align: middle;\n",
       "    }\n",
       "\n",
       "    .dataframe tbody tr th {\n",
       "        vertical-align: top;\n",
       "    }\n",
       "\n",
       "    .dataframe thead th {\n",
       "        text-align: right;\n",
       "    }\n",
       "</style>\n",
       "<table border=\"1\" class=\"dataframe\">\n",
       "  <thead>\n",
       "    <tr style=\"text-align: right;\">\n",
       "      <th></th>\n",
       "      <th>USD.EUR.SPOT</th>\n",
       "      <th>USD.CAD.SPOT</th>\n",
       "      <th>USD.JPY.SPOT</th>\n",
       "    </tr>\n",
       "    <tr>\n",
       "      <th>time_est</th>\n",
       "      <th></th>\n",
       "      <th></th>\n",
       "      <th></th>\n",
       "    </tr>\n",
       "  </thead>\n",
       "  <tbody>\n",
       "    <tr>\n",
       "      <th>2022-01-02 18:00:00</th>\n",
       "      <td>NaN</td>\n",
       "      <td>NaN</td>\n",
       "      <td>NaN</td>\n",
       "    </tr>\n",
       "    <tr>\n",
       "      <th>2022-01-02 18:01:00</th>\n",
       "      <td>0.351604</td>\n",
       "      <td>4.908209</td>\n",
       "      <td>0.912230</td>\n",
       "    </tr>\n",
       "    <tr>\n",
       "      <th>2022-01-02 18:02:00</th>\n",
       "      <td>0.922927</td>\n",
       "      <td>-1.306046</td>\n",
       "      <td>-0.955579</td>\n",
       "    </tr>\n",
       "    <tr>\n",
       "      <th>2022-01-02 18:03:00</th>\n",
       "      <td>0.527338</td>\n",
       "      <td>0.000000</td>\n",
       "      <td>0.304057</td>\n",
       "    </tr>\n",
       "    <tr>\n",
       "      <th>2022-01-02 18:04:00</th>\n",
       "      <td>0.131828</td>\n",
       "      <td>-2.334507</td>\n",
       "      <td>0.912254</td>\n",
       "    </tr>\n",
       "    <tr>\n",
       "      <th>...</th>\n",
       "      <td>...</td>\n",
       "      <td>...</td>\n",
       "      <td>...</td>\n",
       "    </tr>\n",
       "    <tr>\n",
       "      <th>2022-06-30 16:55:00</th>\n",
       "      <td>0.000000</td>\n",
       "      <td>1.165139</td>\n",
       "      <td>-0.184152</td>\n",
       "    </tr>\n",
       "    <tr>\n",
       "      <th>2022-06-30 16:56:00</th>\n",
       "      <td>0.000000</td>\n",
       "      <td>0.000000</td>\n",
       "      <td>0.000000</td>\n",
       "    </tr>\n",
       "    <tr>\n",
       "      <th>2022-06-30 16:57:00</th>\n",
       "      <td>0.000000</td>\n",
       "      <td>-0.776699</td>\n",
       "      <td>-0.552425</td>\n",
       "    </tr>\n",
       "    <tr>\n",
       "      <th>2022-06-30 16:58:00</th>\n",
       "      <td>0.238481</td>\n",
       "      <td>1.165184</td>\n",
       "      <td>3.315650</td>\n",
       "    </tr>\n",
       "    <tr>\n",
       "      <th>2022-06-30 16:59:00</th>\n",
       "      <td>-3.100184</td>\n",
       "      <td>0.388410</td>\n",
       "      <td>2.210922</td>\n",
       "    </tr>\n",
       "  </tbody>\n",
       "</table>\n",
       "<p>166980 rows × 3 columns</p>\n",
       "</div>"
      ],
      "text/plain": [
       "                     USD.EUR.SPOT  USD.CAD.SPOT  USD.JPY.SPOT\n",
       "time_est                                                     \n",
       "2022-01-02 18:00:00           NaN           NaN           NaN\n",
       "2022-01-02 18:01:00      0.351604      4.908209      0.912230\n",
       "2022-01-02 18:02:00      0.922927     -1.306046     -0.955579\n",
       "2022-01-02 18:03:00      0.527338      0.000000      0.304057\n",
       "2022-01-02 18:04:00      0.131828     -2.334507      0.912254\n",
       "...                           ...           ...           ...\n",
       "2022-06-30 16:55:00      0.000000      1.165139     -0.184152\n",
       "2022-06-30 16:56:00      0.000000      0.000000      0.000000\n",
       "2022-06-30 16:57:00      0.000000     -0.776699     -0.552425\n",
       "2022-06-30 16:58:00      0.238481      1.165184      3.315650\n",
       "2022-06-30 16:59:00     -3.100184      0.388410      2.210922\n",
       "\n",
       "[166980 rows x 3 columns]"
      ]
     },
     "execution_count": 4,
     "metadata": {},
     "output_type": "execute_result"
    }
   ],
   "source": [
    "ret_df_bps"
   ]
  },
  {
   "cell_type": "code",
   "execution_count": 5,
   "metadata": {},
   "outputs": [],
   "source": [
    "def runif(): \n",
    "    \"\"\"uniform random number generator\"\"\"\n",
    "    return np.random.uniform(0, 1, 1)[0]"
   ]
  },
  {
   "cell_type": "code",
   "execution_count": 29,
   "metadata": {},
   "outputs": [],
   "source": [
    "from pyts.image import GramianAngularField"
   ]
  },
  {
   "cell_type": "code",
   "execution_count": 145,
   "metadata": {},
   "outputs": [],
   "source": [
    "def gaf(vector):\n",
    "    gasf = GramianAngularField(method='summation')\n",
    "    x_train_gasf = gasf.transform(vector)\n",
    "    gadf = GramianAngularField(method='difference')\n",
    "    x_train_gadf = gadf.transform(vector)\n",
    "    x_train_gaf=np.concatenate((x_train_gasf,x_train_gadf,np.zeros(x_train_gadf.shape)),axis=-1)\n",
    "    return x_train_gaf\n",
    "def cov_dif_frob_norm(securities_returns, lookback):\n",
    "    frob = []\n",
    "    dates = []\n",
    "#     for i in range(23*60,len(securities_returns),23*60):\n",
    "    # at what interval you want to train\n",
    "    interval = 23*60\n",
    "    for i in range(23*60,len(securities_returns),interval):\n",
    "        vector = securities_returns[i:i+lookback]\n",
    "        prior_vector = securities_returns[i-interval:i+lookback-interval]\n",
    "        M_now = np.cov(vector.T, ddof=0)\n",
    "        M_prior = np.cov(prior_vector.T, ddof=0)\n",
    "        M_dif = M_now-M_prior\n",
    "        frob.append(np.linalg.norm(M_dif))\n",
    "        dates.append(vector.index[-1])\n",
    "    frob_df = pd.DataFrame(frob)\n",
    "    frob_df.index = dates\n",
    "    return frob_df"
   ]
  },
  {
   "cell_type": "code",
   "execution_count": 152,
   "metadata": {},
   "outputs": [],
   "source": [
    "frob = cov_dif_frob_norm(ret_df_bps,3*23*60)\n",
    "frob = round(frob,0)\n",
    "frob[frob>2]=2"
   ]
  },
  {
   "cell_type": "code",
   "execution_count": 153,
   "metadata": {},
   "outputs": [],
   "source": [
    "d= frob"
   ]
  },
  {
   "cell_type": "code",
   "execution_count": 154,
   "metadata": {},
   "outputs": [
    {
     "data": {
      "text/plain": [
       "{nan, 0.0, 1.0, 2.0}"
      ]
     },
     "execution_count": 154,
     "metadata": {},
     "output_type": "execute_result"
    }
   ],
   "source": [
    "set(d.values[i][0] for i in range(len(d)))"
   ]
  },
  {
   "cell_type": "code",
   "execution_count": 124,
   "metadata": {},
   "outputs": [
    {
     "data": {
      "text/plain": [
       "{0.0, 1.0, 2.0}"
      ]
     },
     "execution_count": 124,
     "metadata": {},
     "output_type": "execute_result"
    }
   ],
   "source": [
    "d[d<=236] = 0\n",
    "d[(d> 236) & (d<239)] = 1\n",
    "d[d>=239] = 2\n"
   ]
  },
  {
   "cell_type": "code",
   "execution_count": 128,
   "metadata": {},
   "outputs": [],
   "source": [
    "frob = d"
   ]
  },
  {
   "cell_type": "code",
   "execution_count": 129,
   "metadata": {},
   "outputs": [],
   "source": [
    "frob_train = frob[(frob.index >= pd.Timestamp(2022,2,1)) & (frob.index < pd.Timestamp(2022,5,1))]\n",
    "frob_backtest = frob[(frob.index >= pd.Timestamp(2022,5,1)) & (frob.index < pd.Timestamp(2022,6,1))]"
   ]
  },
  {
   "cell_type": "code",
   "execution_count": 130,
   "metadata": {},
   "outputs": [],
   "source": [
    "def index_list(L): \n",
    "    \"\"\"from a list, build a dictionary which list element to position\"\"\"\n",
    "    return dict(zip(L, [x for x in range(0, len(L))]))"
   ]
  },
  {
   "cell_type": "code",
   "execution_count": 131,
   "metadata": {},
   "outputs": [],
   "source": [
    "def markowitz_weight(lookback_df):\n",
    "    mu = pyp.expected_returns.mean_historical_return(lookback_df)\n",
    "    S = np.cov(lookback_df.T, ddof=0)\n",
    "    ef = pyp.efficient_frontier.EfficientFrontier(mu, S, weight_bounds=(0,1))\n",
    "    weights = ef.min_volatility()\n",
    "    \n",
    "    return weights"
   ]
  },
  {
   "cell_type": "code",
   "execution_count": 155,
   "metadata": {},
   "outputs": [],
   "source": [
    "Action = namedtuple('Action', ['weights'])\n",
    "State = namedtuple('State', ['frobenius_norm'])"
   ]
  },
  {
   "cell_type": "code",
   "execution_count": 156,
   "metadata": {},
   "outputs": [],
   "source": [
    "weightOptions = [(1/3,1/3,1/3),(1/2,1/4,1/4),(1/4,1/2,1/4),(1/4,1/4,1/2)]\n",
    "actionSpace = [Action(w) for w in weightOptions]\n",
    "\n",
    "stateSpace = [State(round(f,0)) for f in np.arange(frob.min()[0],frob.max()[0]+1,1)]"
   ]
  },
  {
   "cell_type": "code",
   "execution_count": 162,
   "metadata": {},
   "outputs": [],
   "source": [
    "alpha = 0.01 ## learning rate\n",
    "\n",
    "class TabularQLearner:\n",
    "    def __init__(self, act_space, state_space, eps=0.1):\n",
    "        self.actions = act_space\n",
    "        self.states = state_space\n",
    "        self.lookup = index_list(state_space)\n",
    "        self.Q = np.zeros((len(self.states), len(self.actions)))\n",
    "        self.epsilon = eps\n",
    "        self.action_lookup = index_list(act_space)\n",
    "        self.zero_trade = self.action_lookup[Action(weightOptions[0])]\n",
    "\n",
    "    def __greedy_action_index(self, state_index):\n",
    "        \"\"\"calculate the integer for indexing into self.Q or self.actions of the greedy action\"\"\"\n",
    "        q = self.Q[state_index]\n",
    "        if not np.any(q):\n",
    "            return self.zero_trade\n",
    "        else:\n",
    "            return np.argmax(q)\n",
    "\n",
    "    def greedy_action(self, state):\n",
    "        \"\"\"calculate the actual greedy action, not just its index\"\"\"\n",
    "        return self.actions[self.__greedy_action_index(self.lookup[state])]\n",
    "\n",
    "    def maxQ(self, state):\n",
    "        return max(self.Q[self.lookup[state]])\n",
    "\n",
    "    def train(self, frob):\n",
    "        for f in range(len(frob)-1):\n",
    "            curr = State(frob.loc[frob.index[f]][0])\n",
    "            i = self.lookup[curr]\n",
    "            \n",
    "            rand = runif()\n",
    "            # with probability epsilon, select action randomly from amongst all available actions with equal probability\n",
    "            if rand <= self.epsilon:\n",
    "                a = random.choice(self.actions)\n",
    "#                 print('random')\n",
    "            else:\n",
    "                a = self.greedy_action(curr)\n",
    "            j = self.action_lookup[a]\n",
    "            \n",
    "            prev_df = minute_df_usd_price_est[(minute_df_usd_price_est.index <= frob.index[f])]\n",
    "            lookback_df = prev_df.iloc[-3*23*60:]\n",
    "#             w = markowitz_weight(lookback_df)\n",
    "            \n",
    "            # for reward calculation\n",
    "            train_df = ret_df_bps[(ret_df_bps.index <= frob.index[f+1]) & (ret_df_bps.index > frob.index[f])]\n",
    "            \n",
    "            train_performance = list(a.weights)*train_df\n",
    "            train_port = train_performance.sum(axis=1)\n",
    "            reward = -train_port.var()\n",
    "            \n",
    "            self.Q[i,j] = self.Q[i,j] + alpha * (reward - self.Q[i,j])"
   ]
  },
  {
   "cell_type": "code",
   "execution_count": 163,
   "metadata": {},
   "outputs": [],
   "source": [
    "learner = TabularQLearner(actionSpace, stateSpace, eps=0.1)\n",
    "learner.train(frob_train)"
   ]
  },
  {
   "cell_type": "code",
   "execution_count": 175,
   "metadata": {},
   "outputs": [
    {
     "data": {
      "text/html": [
       "<div>\n",
       "<style scoped>\n",
       "    .dataframe tbody tr th:only-of-type {\n",
       "        vertical-align: middle;\n",
       "    }\n",
       "\n",
       "    .dataframe tbody tr th {\n",
       "        vertical-align: top;\n",
       "    }\n",
       "\n",
       "    .dataframe thead th {\n",
       "        text-align: right;\n",
       "    }\n",
       "</style>\n",
       "<table border=\"1\" class=\"dataframe\">\n",
       "  <thead>\n",
       "    <tr style=\"text-align: right;\">\n",
       "      <th></th>\n",
       "      <th>0</th>\n",
       "    </tr>\n",
       "  </thead>\n",
       "  <tbody>\n",
       "    <tr>\n",
       "      <th>2022-02-01 18:00:00</th>\n",
       "      <td>0.0</td>\n",
       "    </tr>\n",
       "    <tr>\n",
       "      <th>2022-02-02 18:00:00</th>\n",
       "      <td>0.0</td>\n",
       "    </tr>\n",
       "    <tr>\n",
       "      <th>2022-02-03 18:00:00</th>\n",
       "      <td>1.0</td>\n",
       "    </tr>\n",
       "    <tr>\n",
       "      <th>2022-02-06 18:00:00</th>\n",
       "      <td>1.0</td>\n",
       "    </tr>\n",
       "    <tr>\n",
       "      <th>2022-02-07 18:00:00</th>\n",
       "      <td>1.0</td>\n",
       "    </tr>\n",
       "    <tr>\n",
       "      <th>2022-02-08 18:00:00</th>\n",
       "      <td>2.0</td>\n",
       "    </tr>\n",
       "    <tr>\n",
       "      <th>2022-02-09 18:00:00</th>\n",
       "      <td>1.0</td>\n",
       "    </tr>\n",
       "    <tr>\n",
       "      <th>2022-02-10 18:00:00</th>\n",
       "      <td>2.0</td>\n",
       "    </tr>\n",
       "    <tr>\n",
       "      <th>2022-02-13 18:00:00</th>\n",
       "      <td>2.0</td>\n",
       "    </tr>\n",
       "    <tr>\n",
       "      <th>2022-02-14 18:00:00</th>\n",
       "      <td>1.0</td>\n",
       "    </tr>\n",
       "    <tr>\n",
       "      <th>2022-02-15 18:00:00</th>\n",
       "      <td>2.0</td>\n",
       "    </tr>\n",
       "    <tr>\n",
       "      <th>2022-02-16 18:00:00</th>\n",
       "      <td>1.0</td>\n",
       "    </tr>\n",
       "    <tr>\n",
       "      <th>2022-02-17 18:00:00</th>\n",
       "      <td>1.0</td>\n",
       "    </tr>\n",
       "    <tr>\n",
       "      <th>2022-02-21 18:00:00</th>\n",
       "      <td>1.0</td>\n",
       "    </tr>\n",
       "    <tr>\n",
       "      <th>2022-02-22 18:00:00</th>\n",
       "      <td>1.0</td>\n",
       "    </tr>\n",
       "    <tr>\n",
       "      <th>2022-02-23 18:00:00</th>\n",
       "      <td>1.0</td>\n",
       "    </tr>\n",
       "    <tr>\n",
       "      <th>2022-02-24 18:00:00</th>\n",
       "      <td>1.0</td>\n",
       "    </tr>\n",
       "    <tr>\n",
       "      <th>2022-02-28 18:00:00</th>\n",
       "      <td>1.0</td>\n",
       "    </tr>\n",
       "    <tr>\n",
       "      <th>2022-03-01 18:00:00</th>\n",
       "      <td>0.0</td>\n",
       "    </tr>\n",
       "    <tr>\n",
       "      <th>2022-03-02 18:00:00</th>\n",
       "      <td>0.0</td>\n",
       "    </tr>\n",
       "    <tr>\n",
       "      <th>2022-03-03 18:00:00</th>\n",
       "      <td>1.0</td>\n",
       "    </tr>\n",
       "    <tr>\n",
       "      <th>2022-03-06 18:00:00</th>\n",
       "      <td>2.0</td>\n",
       "    </tr>\n",
       "    <tr>\n",
       "      <th>2022-03-07 18:00:00</th>\n",
       "      <td>2.0</td>\n",
       "    </tr>\n",
       "    <tr>\n",
       "      <th>2022-03-08 18:00:00</th>\n",
       "      <td>2.0</td>\n",
       "    </tr>\n",
       "    <tr>\n",
       "      <th>2022-03-09 18:00:00</th>\n",
       "      <td>2.0</td>\n",
       "    </tr>\n",
       "    <tr>\n",
       "      <th>2022-03-10 18:00:00</th>\n",
       "      <td>2.0</td>\n",
       "    </tr>\n",
       "    <tr>\n",
       "      <th>2022-03-13 18:00:00</th>\n",
       "      <td>2.0</td>\n",
       "    </tr>\n",
       "    <tr>\n",
       "      <th>2022-03-14 18:00:00</th>\n",
       "      <td>2.0</td>\n",
       "    </tr>\n",
       "    <tr>\n",
       "      <th>2022-03-15 18:00:00</th>\n",
       "      <td>2.0</td>\n",
       "    </tr>\n",
       "    <tr>\n",
       "      <th>2022-03-16 18:00:00</th>\n",
       "      <td>2.0</td>\n",
       "    </tr>\n",
       "    <tr>\n",
       "      <th>2022-03-17 18:00:00</th>\n",
       "      <td>2.0</td>\n",
       "    </tr>\n",
       "    <tr>\n",
       "      <th>2022-03-20 18:00:00</th>\n",
       "      <td>1.0</td>\n",
       "    </tr>\n",
       "    <tr>\n",
       "      <th>2022-03-21 18:00:00</th>\n",
       "      <td>1.0</td>\n",
       "    </tr>\n",
       "    <tr>\n",
       "      <th>2022-03-22 18:00:00</th>\n",
       "      <td>1.0</td>\n",
       "    </tr>\n",
       "    <tr>\n",
       "      <th>2022-03-23 18:00:00</th>\n",
       "      <td>2.0</td>\n",
       "    </tr>\n",
       "    <tr>\n",
       "      <th>2022-03-24 18:00:00</th>\n",
       "      <td>2.0</td>\n",
       "    </tr>\n",
       "    <tr>\n",
       "      <th>2022-03-27 18:00:00</th>\n",
       "      <td>1.0</td>\n",
       "    </tr>\n",
       "    <tr>\n",
       "      <th>2022-03-28 18:00:00</th>\n",
       "      <td>0.0</td>\n",
       "    </tr>\n",
       "    <tr>\n",
       "      <th>2022-03-29 18:00:00</th>\n",
       "      <td>0.0</td>\n",
       "    </tr>\n",
       "    <tr>\n",
       "      <th>2022-03-30 18:00:00</th>\n",
       "      <td>0.0</td>\n",
       "    </tr>\n",
       "    <tr>\n",
       "      <th>2022-03-31 18:00:00</th>\n",
       "      <td>0.0</td>\n",
       "    </tr>\n",
       "    <tr>\n",
       "      <th>2022-04-03 18:00:00</th>\n",
       "      <td>0.0</td>\n",
       "    </tr>\n",
       "    <tr>\n",
       "      <th>2022-04-04 18:00:00</th>\n",
       "      <td>0.0</td>\n",
       "    </tr>\n",
       "    <tr>\n",
       "      <th>2022-04-05 18:00:00</th>\n",
       "      <td>0.0</td>\n",
       "    </tr>\n",
       "    <tr>\n",
       "      <th>2022-04-06 18:00:00</th>\n",
       "      <td>0.0</td>\n",
       "    </tr>\n",
       "    <tr>\n",
       "      <th>2022-04-07 18:00:00</th>\n",
       "      <td>0.0</td>\n",
       "    </tr>\n",
       "    <tr>\n",
       "      <th>2022-04-10 18:00:00</th>\n",
       "      <td>0.0</td>\n",
       "    </tr>\n",
       "    <tr>\n",
       "      <th>2022-04-11 18:00:00</th>\n",
       "      <td>1.0</td>\n",
       "    </tr>\n",
       "    <tr>\n",
       "      <th>2022-04-12 18:00:00</th>\n",
       "      <td>1.0</td>\n",
       "    </tr>\n",
       "    <tr>\n",
       "      <th>2022-04-13 18:00:00</th>\n",
       "      <td>1.0</td>\n",
       "    </tr>\n",
       "    <tr>\n",
       "      <th>2022-04-17 18:00:00</th>\n",
       "      <td>0.0</td>\n",
       "    </tr>\n",
       "    <tr>\n",
       "      <th>2022-04-18 18:00:00</th>\n",
       "      <td>1.0</td>\n",
       "    </tr>\n",
       "    <tr>\n",
       "      <th>2022-04-19 18:00:00</th>\n",
       "      <td>1.0</td>\n",
       "    </tr>\n",
       "    <tr>\n",
       "      <th>2022-04-20 18:00:00</th>\n",
       "      <td>1.0</td>\n",
       "    </tr>\n",
       "    <tr>\n",
       "      <th>2022-04-21 18:00:00</th>\n",
       "      <td>0.0</td>\n",
       "    </tr>\n",
       "    <tr>\n",
       "      <th>2022-04-24 18:00:00</th>\n",
       "      <td>0.0</td>\n",
       "    </tr>\n",
       "    <tr>\n",
       "      <th>2022-04-25 18:00:00</th>\n",
       "      <td>0.0</td>\n",
       "    </tr>\n",
       "    <tr>\n",
       "      <th>2022-04-26 18:00:00</th>\n",
       "      <td>0.0</td>\n",
       "    </tr>\n",
       "    <tr>\n",
       "      <th>2022-04-27 18:00:00</th>\n",
       "      <td>0.0</td>\n",
       "    </tr>\n",
       "    <tr>\n",
       "      <th>2022-04-28 18:00:00</th>\n",
       "      <td>0.0</td>\n",
       "    </tr>\n",
       "  </tbody>\n",
       "</table>\n",
       "</div>"
      ],
      "text/plain": [
       "                       0\n",
       "2022-02-01 18:00:00  0.0\n",
       "2022-02-02 18:00:00  0.0\n",
       "2022-02-03 18:00:00  1.0\n",
       "2022-02-06 18:00:00  1.0\n",
       "2022-02-07 18:00:00  1.0\n",
       "2022-02-08 18:00:00  2.0\n",
       "2022-02-09 18:00:00  1.0\n",
       "2022-02-10 18:00:00  2.0\n",
       "2022-02-13 18:00:00  2.0\n",
       "2022-02-14 18:00:00  1.0\n",
       "2022-02-15 18:00:00  2.0\n",
       "2022-02-16 18:00:00  1.0\n",
       "2022-02-17 18:00:00  1.0\n",
       "2022-02-21 18:00:00  1.0\n",
       "2022-02-22 18:00:00  1.0\n",
       "2022-02-23 18:00:00  1.0\n",
       "2022-02-24 18:00:00  1.0\n",
       "2022-02-28 18:00:00  1.0\n",
       "2022-03-01 18:00:00  0.0\n",
       "2022-03-02 18:00:00  0.0\n",
       "2022-03-03 18:00:00  1.0\n",
       "2022-03-06 18:00:00  2.0\n",
       "2022-03-07 18:00:00  2.0\n",
       "2022-03-08 18:00:00  2.0\n",
       "2022-03-09 18:00:00  2.0\n",
       "2022-03-10 18:00:00  2.0\n",
       "2022-03-13 18:00:00  2.0\n",
       "2022-03-14 18:00:00  2.0\n",
       "2022-03-15 18:00:00  2.0\n",
       "2022-03-16 18:00:00  2.0\n",
       "2022-03-17 18:00:00  2.0\n",
       "2022-03-20 18:00:00  1.0\n",
       "2022-03-21 18:00:00  1.0\n",
       "2022-03-22 18:00:00  1.0\n",
       "2022-03-23 18:00:00  2.0\n",
       "2022-03-24 18:00:00  2.0\n",
       "2022-03-27 18:00:00  1.0\n",
       "2022-03-28 18:00:00  0.0\n",
       "2022-03-29 18:00:00  0.0\n",
       "2022-03-30 18:00:00  0.0\n",
       "2022-03-31 18:00:00  0.0\n",
       "2022-04-03 18:00:00  0.0\n",
       "2022-04-04 18:00:00  0.0\n",
       "2022-04-05 18:00:00  0.0\n",
       "2022-04-06 18:00:00  0.0\n",
       "2022-04-07 18:00:00  0.0\n",
       "2022-04-10 18:00:00  0.0\n",
       "2022-04-11 18:00:00  1.0\n",
       "2022-04-12 18:00:00  1.0\n",
       "2022-04-13 18:00:00  1.0\n",
       "2022-04-17 18:00:00  0.0\n",
       "2022-04-18 18:00:00  1.0\n",
       "2022-04-19 18:00:00  1.0\n",
       "2022-04-20 18:00:00  1.0\n",
       "2022-04-21 18:00:00  0.0\n",
       "2022-04-24 18:00:00  0.0\n",
       "2022-04-25 18:00:00  0.0\n",
       "2022-04-26 18:00:00  0.0\n",
       "2022-04-27 18:00:00  0.0\n",
       "2022-04-28 18:00:00  0.0"
      ]
     },
     "execution_count": 175,
     "metadata": {},
     "output_type": "execute_result"
    }
   ],
   "source": [
    "frob_train"
   ]
  },
  {
   "cell_type": "code",
   "execution_count": 174,
   "metadata": {},
   "outputs": [
    {
     "data": {
      "text/plain": [
       "0.0"
      ]
     },
     "execution_count": 174,
     "metadata": {},
     "output_type": "execute_result"
    }
   ],
   "source": [
    "frob_train.loc[frob_train.index[0]][0]"
   ]
  },
  {
   "cell_type": "code",
   "execution_count": 164,
   "metadata": {},
   "outputs": [
    {
     "data": {
      "text/plain": [
       "array([[-0.04814141, -0.07502502, -0.05012907, -0.04899659],\n",
       "       [-0.05533773, -0.05731532, -0.06540538, -0.05391838],\n",
       "       [-0.0531964 , -0.05219934, -0.03194546, -0.03299758]])"
      ]
     },
     "execution_count": 164,
     "metadata": {},
     "output_type": "execute_result"
    }
   ],
   "source": [
    "learner.Q"
   ]
  },
  {
   "cell_type": "code",
   "execution_count": 166,
   "metadata": {},
   "outputs": [
    {
     "ename": "AttributeError",
     "evalue": "'Action' object has no attribute 'weight'",
     "output_type": "error",
     "traceback": [
      "\u001b[0;31m---------------------------------------------------------------------------\u001b[0m",
      "\u001b[0;31mAttributeError\u001b[0m                            Traceback (most recent call last)",
      "\u001b[0;32m<ipython-input-166-10a0ad119610>\u001b[0m in \u001b[0;36m<module>\u001b[0;34m\u001b[0m\n\u001b[1;32m      1\u001b[0m \u001b[0mqfunction\u001b[0m \u001b[0;34m=\u001b[0m \u001b[0mpd\u001b[0m\u001b[0;34m.\u001b[0m\u001b[0mDataFrame\u001b[0m\u001b[0;34m(\u001b[0m\u001b[0mcolumns\u001b[0m\u001b[0;34m=\u001b[0m\u001b[0;34m[\u001b[0m\u001b[0;34m'hour'\u001b[0m\u001b[0;34m,\u001b[0m \u001b[0;34m'optimal_weight_eur'\u001b[0m\u001b[0;34m,\u001b[0m \u001b[0;34m'optimal_weight_cad'\u001b[0m\u001b[0;34m,\u001b[0m \u001b[0;34m'optimal_weight_jpy'\u001b[0m\u001b[0;34m]\u001b[0m\u001b[0;34m)\u001b[0m\u001b[0;34m\u001b[0m\u001b[0;34m\u001b[0m\u001b[0m\n\u001b[1;32m      2\u001b[0m \u001b[0;32mfor\u001b[0m \u001b[0ms\u001b[0m \u001b[0;32min\u001b[0m \u001b[0mstateSpace\u001b[0m\u001b[0;34m:\u001b[0m\u001b[0;34m\u001b[0m\u001b[0;34m\u001b[0m\u001b[0m\n\u001b[0;32m----> 3\u001b[0;31m     \u001b[0moptimal_weight\u001b[0m \u001b[0;34m=\u001b[0m \u001b[0mlearner\u001b[0m\u001b[0;34m.\u001b[0m\u001b[0mgreedy_action\u001b[0m\u001b[0;34m(\u001b[0m\u001b[0ms\u001b[0m\u001b[0;34m)\u001b[0m\u001b[0;34m.\u001b[0m\u001b[0mweight\u001b[0m\u001b[0;34m\u001b[0m\u001b[0;34m\u001b[0m\u001b[0m\n\u001b[0m\u001b[1;32m      4\u001b[0m     \u001b[0mqfunction\u001b[0m \u001b[0;34m=\u001b[0m \u001b[0mqfunction\u001b[0m\u001b[0;34m.\u001b[0m\u001b[0mappend\u001b[0m\u001b[0;34m(\u001b[0m\u001b[0;34m{\u001b[0m\u001b[0;34m'hour'\u001b[0m\u001b[0;34m:\u001b[0m \u001b[0ms\u001b[0m\u001b[0;34m.\u001b[0m\u001b[0mhour\u001b[0m\u001b[0;34m,\u001b[0m \u001b[0;34m'optimal_weight_eur'\u001b[0m\u001b[0;34m:\u001b[0m \u001b[0moptimal_weight\u001b[0m\u001b[0;34m[\u001b[0m\u001b[0;36m0\u001b[0m\u001b[0;34m]\u001b[0m\u001b[0;34m,\u001b[0m \u001b[0;34m'optimal_weight_cad'\u001b[0m\u001b[0;34m:\u001b[0m \u001b[0moptimal_weight\u001b[0m\u001b[0;34m[\u001b[0m\u001b[0;36m1\u001b[0m\u001b[0;34m]\u001b[0m\u001b[0;34m,\u001b[0m \u001b[0;34m'optimal_weight_jpy'\u001b[0m\u001b[0;34m:\u001b[0m \u001b[0moptimal_weight\u001b[0m\u001b[0;34m[\u001b[0m\u001b[0;36m2\u001b[0m\u001b[0;34m]\u001b[0m\u001b[0;34m}\u001b[0m\u001b[0;34m,\u001b[0m \u001b[0mignore_index\u001b[0m \u001b[0;34m=\u001b[0m \u001b[0;32mTrue\u001b[0m\u001b[0;34m)\u001b[0m\u001b[0;34m\u001b[0m\u001b[0;34m\u001b[0m\u001b[0m\n",
      "\u001b[0;31mAttributeError\u001b[0m: 'Action' object has no attribute 'weight'"
     ]
    }
   ],
   "source": [
    "qfunction = pd.DataFrame(columns=['hour', 'optimal_weight_eur', 'optimal_weight_cad', 'optimal_weight_jpy'])\n",
    "for s in stateSpace:\n",
    "    optimal_weight = learner.greedy_action(s).weight\n",
    "    qfunction = qfunction.append({'hour': s.hour, 'optimal_weight_eur': optimal_weight[0], 'optimal_weight_cad': optimal_weight[1], 'optimal_weight_jpy': optimal_weight[2]}, ignore_index = True)"
   ]
  },
  {
   "cell_type": "code",
   "execution_count": 170,
   "metadata": {},
   "outputs": [],
   "source": [
    "qfunction = pd.DataFrame(columns=['frobenius_norm', 'optimal_weight_eur', 'optimal_weight_cad', 'optimal_weight_jpy'])\n",
    "for s in stateSpace:\n",
    "    optimal_weight = learner.greedy_action(s).weights\n",
    "    qfunction = qfunction.append({'frobenius_norm': s.frobenius_norm, 'optimal_weight_eur': optimal_weight[0], 'optimal_weight_cad': optimal_weight[1], 'optimal_weight_jpy': optimal_weight[2]}, ignore_index = True)\n",
    "    "
   ]
  },
  {
   "cell_type": "code",
   "execution_count": 171,
   "metadata": {},
   "outputs": [
    {
     "data": {
      "text/html": [
       "<div>\n",
       "<style scoped>\n",
       "    .dataframe tbody tr th:only-of-type {\n",
       "        vertical-align: middle;\n",
       "    }\n",
       "\n",
       "    .dataframe tbody tr th {\n",
       "        vertical-align: top;\n",
       "    }\n",
       "\n",
       "    .dataframe thead th {\n",
       "        text-align: right;\n",
       "    }\n",
       "</style>\n",
       "<table border=\"1\" class=\"dataframe\">\n",
       "  <thead>\n",
       "    <tr style=\"text-align: right;\">\n",
       "      <th></th>\n",
       "      <th>frobenius_norm</th>\n",
       "      <th>optimal_weight_eur</th>\n",
       "      <th>optimal_weight_cad</th>\n",
       "      <th>optimal_weight_jpy</th>\n",
       "    </tr>\n",
       "  </thead>\n",
       "  <tbody>\n",
       "    <tr>\n",
       "      <th>0</th>\n",
       "      <td>0.0</td>\n",
       "      <td>0.333333</td>\n",
       "      <td>0.333333</td>\n",
       "      <td>0.333333</td>\n",
       "    </tr>\n",
       "    <tr>\n",
       "      <th>1</th>\n",
       "      <td>1.0</td>\n",
       "      <td>0.250000</td>\n",
       "      <td>0.250000</td>\n",
       "      <td>0.500000</td>\n",
       "    </tr>\n",
       "    <tr>\n",
       "      <th>2</th>\n",
       "      <td>2.0</td>\n",
       "      <td>0.250000</td>\n",
       "      <td>0.500000</td>\n",
       "      <td>0.250000</td>\n",
       "    </tr>\n",
       "  </tbody>\n",
       "</table>\n",
       "</div>"
      ],
      "text/plain": [
       "   frobenius_norm  optimal_weight_eur  optimal_weight_cad  optimal_weight_jpy\n",
       "0             0.0            0.333333            0.333333            0.333333\n",
       "1             1.0            0.250000            0.250000            0.500000\n",
       "2             2.0            0.250000            0.500000            0.250000"
      ]
     },
     "execution_count": 171,
     "metadata": {},
     "output_type": "execute_result"
    }
   ],
   "source": [
    "qfunction"
   ]
  },
  {
   "cell_type": "code",
   "execution_count": 173,
   "metadata": {},
   "outputs": [
    {
     "data": {
      "image/png": "[encoded data removed]",
      "text/plain": [
       "<Figure size 432x288 with 1 Axes>"
      ]
     },
     "metadata": {
      "needs_background": "light"
     },
     "output_type": "display_data"
    }
   ],
   "source": [
    "ax = qfunction.set_index('frobenius_norm').plot(kind='bar',stacked=True)\n",
    "lgd = ax.legend(loc='center left', bbox_to_anchor=(1, 0.5))\n",
    "ax.figure.savefig('RL-specifichour_'+str(weightOptions)+'.png', bbox_extra_artists=(lgd,), bbox_inches='tight')\n",
    "plt.show()"
   ]
  },
  {
   "cell_type": "code",
   "execution_count": 138,
   "metadata": {},
   "outputs": [
    {
     "data": {
      "image/png": "[encoded data removed]",
      "text/plain": [
       "<Figure size 432x288 with 1 Axes>"
      ]
     },
     "metadata": {
      "needs_background": "light"
     },
     "output_type": "display_data"
    }
   ],
   "source": [
    "sns.lineplot(data=qfunction, x='frobenius_norm', y='optimal_lookback')\n",
    "plt.show()"
   ]
  },
  {
   "cell_type": "code",
   "execution_count": 139,
   "metadata": {},
   "outputs": [
    {
     "data": {
      "text/plain": [
       "0    0.095752\n",
       "dtype: float64"
      ]
     },
     "execution_count": 139,
     "metadata": {},
     "output_type": "execute_result"
    }
   ],
   "source": [
    "backtest_return = pd.DataFrame()\n",
    "for i in range(len(frob_backtest)-1):\n",
    "    curr = State(frob_backtest.loc[frob_backtest.index[i]][0])\n",
    "    optimal_lookback = learner.greedy_action(curr).lookback\n",
    "\n",
    "    prev_df = minute_df_usd_price_est[(minute_df_usd_price_est.index <= frob_backtest.index[i])]\n",
    "    lookback_df = prev_df.iloc[-optimal_lookback*23*60:]\n",
    "    w = markowitz_weight(lookback_df)\n",
    "\n",
    "    backtest_df = ret_df[(ret_df.index <= frob_backtest.index[i+1]) & (ret_df.index > frob_backtest.index[i])]\n",
    "\n",
    "    backtest_performance = w*backtest_df\n",
    "    backtest_port = backtest_performance.sum(axis=1)\n",
    "    backtest_return = backtest_return.append(pd.DataFrame(backtest_port))\n",
    "\n",
    "backtest_return.std()*np.sqrt(23*60*252)"
   ]
  },
  {
   "cell_type": "code",
   "execution_count": 140,
   "metadata": {},
   "outputs": [
    {
     "data": {
      "text/plain": [
       "[<matplotlib.lines.Line2D at 0x7feb0e776190>]"
      ]
     },
     "execution_count": 140,
     "metadata": {},
     "output_type": "execute_result"
    },
    {
     "data": {
      "image/png": "[encoded data removed]",
      "text/plain": [
       "<Figure size 432x288 with 1 Axes>"
      ]
     },
     "metadata": {
      "needs_background": "light"
     },
     "output_type": "display_data"
    }
   ],
   "source": [
    "plt.plot((1+backtest_return).cumprod() -1)"
   ]
  }
 ],
 "metadata": {
  "kernelspec": {
   "display_name": "Python 3",
   "language": "python",
   "name": "python3"
  },
  "language_info": {
   "codemirror_mode": {
    "name": "ipython",
    "version": 3
   },
   "file_extension": ".py",
   "mimetype": "text/x-python",
   "name": "python",
   "nbconvert_exporter": "python",
   "pygments_lexer": "ipython3",
   "version": "3.8.5"
  }
 },
 "nbformat": 4,
 "nbformat_minor": 2
}
