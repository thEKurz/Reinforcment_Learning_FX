{
 "cells": [
  {
   "cell_type": "markdown",
   "metadata": {
    "pycharm": {
     "name": "#%% md\n"
    }
   },
   "source": [
    "# RL"
   ]
  },
  {
   "cell_type": "code",
   "execution_count": 1,
   "metadata": {
    "pycharm": {
     "name": "#%%\n"
    }
   },
   "outputs": [],
   "source": [
    "## first, import the libraries we are going to use\n",
    "\n",
    "import matplotlib.pyplot as plt\n",
    "import sys\n",
    "import numpy as np \n",
    "import math\n",
    "import decimal\n",
    "from collections import namedtuple\n",
    "import pypfopt as pyp\n",
    "\n",
    "import time\n",
    "import random\n",
    "import pandas as pd\n",
    "import seaborn as sns"
   ]
  },
  {
   "cell_type": "code",
   "execution_count": 2,
   "metadata": {
    "pycharm": {
     "name": "#%%\n"
    }
   },
   "outputs": [],
   "source": [
    "minute_df_usd_price_est = pd.read_csv('minute_data_mid_usd_est.csv', index_col=0)\n",
    "minute_df_usd_price_est = minute_df_usd_price_est[['USD.EUR.SPOT','USD.CAD.SPOT','USD.JPY.SPOT']]\n",
    "minute_df_usd_price_est = minute_df_usd_price_est.ffill()\n",
    "minute_df_usd_price_est.index = pd.to_datetime(minute_df_usd_price_est.index)"
   ]
  },
  {
   "cell_type": "code",
   "execution_count": 3,
   "metadata": {
    "pycharm": {
     "name": "#%%\n"
    }
   },
   "outputs": [],
   "source": [
    "ret_df = minute_df_usd_price_est.pct_change()\n",
    "ret_df_bps = ret_df*10000"
   ]
  },
  {
   "cell_type": "code",
   "execution_count": 4,
   "metadata": {
    "pycharm": {
     "name": "#%%\n"
    }
   },
   "outputs": [
    {
     "data": {
      "text/plain": "                     USD.EUR.SPOT  USD.CAD.SPOT  USD.JPY.SPOT\ntime_est                                                     \n2022-01-02 18:00:00           NaN           NaN           NaN\n2022-01-02 18:01:00      0.351604      4.908209      0.912230\n2022-01-02 18:02:00      0.922927     -1.306046     -0.955579\n2022-01-02 18:03:00      0.527338      0.000000      0.304057\n2022-01-02 18:04:00      0.131828     -2.334507      0.912254\n...                           ...           ...           ...\n2022-06-30 16:55:00      0.000000      1.165139     -0.184152\n2022-06-30 16:56:00      0.000000      0.000000      0.000000\n2022-06-30 16:57:00      0.000000     -0.776699     -0.552425\n2022-06-30 16:58:00      0.238481      1.165184      3.315650\n2022-06-30 16:59:00     -3.100184      0.388410      2.210922\n\n[166980 rows x 3 columns]",
      "text/html": "<div>\n<style scoped>\n    .dataframe tbody tr th:only-of-type {\n        vertical-align: middle;\n    }\n\n    .dataframe tbody tr th {\n        vertical-align: top;\n    }\n\n    .dataframe thead th {\n        text-align: right;\n    }\n</style>\n<table border=\"1\" class=\"dataframe\">\n  <thead>\n    <tr style=\"text-align: right;\">\n      <th></th>\n      <th>USD.EUR.SPOT</th>\n      <th>USD.CAD.SPOT</th>\n      <th>USD.JPY.SPOT</th>\n    </tr>\n    <tr>\n      <th>time_est</th>\n      <th></th>\n      <th></th>\n      <th></th>\n    </tr>\n  </thead>\n  <tbody>\n    <tr>\n      <th>2022-01-02 18:00:00</th>\n      <td>NaN</td>\n      <td>NaN</td>\n      <td>NaN</td>\n    </tr>\n    <tr>\n      <th>2022-01-02 18:01:00</th>\n      <td>0.351604</td>\n      <td>4.908209</td>\n      <td>0.912230</td>\n    </tr>\n    <tr>\n      <th>2022-01-02 18:02:00</th>\n      <td>0.922927</td>\n      <td>-1.306046</td>\n      <td>-0.955579</td>\n    </tr>\n    <tr>\n      <th>2022-01-02 18:03:00</th>\n      <td>0.527338</td>\n      <td>0.000000</td>\n      <td>0.304057</td>\n    </tr>\n    <tr>\n      <th>2022-01-02 18:04:00</th>\n      <td>0.131828</td>\n      <td>-2.334507</td>\n      <td>0.912254</td>\n    </tr>\n    <tr>\n      <th>...</th>\n      <td>...</td>\n      <td>...</td>\n      <td>...</td>\n    </tr>\n    <tr>\n      <th>2022-06-30 16:55:00</th>\n      <td>0.000000</td>\n      <td>1.165139</td>\n      <td>-0.184152</td>\n    </tr>\n    <tr>\n      <th>2022-06-30 16:56:00</th>\n      <td>0.000000</td>\n      <td>0.000000</td>\n      <td>0.000000</td>\n    </tr>\n    <tr>\n      <th>2022-06-30 16:57:00</th>\n      <td>0.000000</td>\n      <td>-0.776699</td>\n      <td>-0.552425</td>\n    </tr>\n    <tr>\n      <th>2022-06-30 16:58:00</th>\n      <td>0.238481</td>\n      <td>1.165184</td>\n      <td>3.315650</td>\n    </tr>\n    <tr>\n      <th>2022-06-30 16:59:00</th>\n      <td>-3.100184</td>\n      <td>0.388410</td>\n      <td>2.210922</td>\n    </tr>\n  </tbody>\n</table>\n<p>166980 rows × 3 columns</p>\n</div>"
     },
     "execution_count": 4,
     "metadata": {},
     "output_type": "execute_result"
    }
   ],
   "source": [
    "ret_df_bps"
   ]
  },
  {
   "cell_type": "code",
   "execution_count": 4,
   "outputs": [],
   "source": [],
   "metadata": {
    "collapsed": false,
    "pycharm": {
     "name": "#%%\n"
    }
   }
  },
  {
   "cell_type": "code",
   "execution_count": 5,
   "metadata": {
    "pycharm": {
     "name": "#%%\n"
    }
   },
   "outputs": [],
   "source": [
    "def runif(): \n",
    "    \"\"\"uniform random number generator\"\"\"\n",
    "    return np.random.uniform(0, 1, 1)[0]"
   ]
  },
  {
   "cell_type": "code",
   "execution_count": 6,
   "metadata": {
    "pycharm": {
     "name": "#%%\n"
    }
   },
   "outputs": [],
   "source": [
    "def cov_dif_frob_norm(securities_returns, lookback):\n",
    "    frob = []\n",
    "    dates = []\n",
    "#     for i in range(23*60,len(securities_returns),23*60):\n",
    "    # at what interval you want to train\n",
    "    interval = 23*60\n",
    "    for i in range(23*60,len(securities_returns),interval):\n",
    "        vector = securities_returns[i:i+lookback]\n",
    "        prior_vector = securities_returns[i-interval:i+lookback-interval]\n",
    "        M_now = np.cov(vector.T, ddof=0)\n",
    "        M_prior = np.cov(prior_vector.T, ddof=0)\n",
    "        M_dif = M_now-M_prior\n",
    "        frob.append(np.linalg.norm(M_dif))\n",
    "        dates.append(vector.index[-1])\n",
    "    frob_df = pd.DataFrame(frob)\n",
    "    frob_df.index = dates\n",
    "    return frob_df"
   ]
  },
  {
   "cell_type": "code",
   "execution_count": 7,
   "metadata": {
    "pycharm": {
     "name": "#%%\n"
    }
   },
   "outputs": [],
   "source": [
    "frob = cov_dif_frob_norm(ret_df_bps,3*23*60)\n",
    "frob = round(frob,0)\n",
    "frob[frob>2]=2"
   ]
  },
  {
   "cell_type": "code",
   "execution_count": 8,
   "metadata": {
    "pycharm": {
     "name": "#%%\n"
    }
   },
   "outputs": [],
   "source": [
    "frob_train = frob[(frob.index >= pd.Timestamp(2022,2,1)) & (frob.index < pd.Timestamp(2022,5,1))]\n",
    "frob_backtest = frob[(frob.index >= pd.Timestamp(2022,5,1)) & (frob.index < pd.Timestamp(2022,6,1))]"
   ]
  },
  {
   "cell_type": "code",
   "execution_count": 9,
   "outputs": [
    {
     "data": {
      "text/plain": "                       0\n2022-01-06 16:59:00  NaN\n2022-01-07 16:59:00  0.0\n2022-01-10 16:59:00  0.0\n2022-01-11 16:59:00  0.0\n2022-01-12 16:59:00  0.0\n...                  ...\n2022-06-28 16:59:00  1.0\n2022-06-29 16:59:00  1.0\n2022-06-30 16:59:00  1.0\n2022-06-30 16:59:00  0.0\n2022-06-30 16:59:00  0.0\n\n[120 rows x 1 columns]",
      "text/html": "<div>\n<style scoped>\n    .dataframe tbody tr th:only-of-type {\n        vertical-align: middle;\n    }\n\n    .dataframe tbody tr th {\n        vertical-align: top;\n    }\n\n    .dataframe thead th {\n        text-align: right;\n    }\n</style>\n<table border=\"1\" class=\"dataframe\">\n  <thead>\n    <tr style=\"text-align: right;\">\n      <th></th>\n      <th>0</th>\n    </tr>\n  </thead>\n  <tbody>\n    <tr>\n      <th>2022-01-06 16:59:00</th>\n      <td>NaN</td>\n    </tr>\n    <tr>\n      <th>2022-01-07 16:59:00</th>\n      <td>0.0</td>\n    </tr>\n    <tr>\n      <th>2022-01-10 16:59:00</th>\n      <td>0.0</td>\n    </tr>\n    <tr>\n      <th>2022-01-11 16:59:00</th>\n      <td>0.0</td>\n    </tr>\n    <tr>\n      <th>2022-01-12 16:59:00</th>\n      <td>0.0</td>\n    </tr>\n    <tr>\n      <th>...</th>\n      <td>...</td>\n    </tr>\n    <tr>\n      <th>2022-06-28 16:59:00</th>\n      <td>1.0</td>\n    </tr>\n    <tr>\n      <th>2022-06-29 16:59:00</th>\n      <td>1.0</td>\n    </tr>\n    <tr>\n      <th>2022-06-30 16:59:00</th>\n      <td>1.0</td>\n    </tr>\n    <tr>\n      <th>2022-06-30 16:59:00</th>\n      <td>0.0</td>\n    </tr>\n    <tr>\n      <th>2022-06-30 16:59:00</th>\n      <td>0.0</td>\n    </tr>\n  </tbody>\n</table>\n<p>120 rows × 1 columns</p>\n</div>"
     },
     "execution_count": 9,
     "metadata": {},
     "output_type": "execute_result"
    }
   ],
   "source": [
    "frob"
   ],
   "metadata": {
    "collapsed": false,
    "pycharm": {
     "name": "#%%\n"
    }
   }
  },
  {
   "cell_type": "code",
   "execution_count": 9,
   "metadata": {
    "pycharm": {
     "name": "#%%\n"
    }
   },
   "outputs": [],
   "source": [
    "def index_list(L): \n",
    "    \"\"\"from a list, build a dictionary which list element to position\"\"\"\n",
    "    return dict(zip(L, [x for x in range(0, len(L))]))"
   ]
  },
  {
   "cell_type": "code",
   "execution_count": 10,
   "metadata": {
    "pycharm": {
     "name": "#%%\n"
    }
   },
   "outputs": [],
   "source": [
    "def markowitz_weight(lookback_df):\n",
    "    mu = pyp.expected_returns.mean_historical_return(lookback_df)\n",
    "    S = np.cov(lookback_df.T, ddof=0)\n",
    "    ef = pyp.efficient_frontier.EfficientFrontier(mu, S, weight_bounds=(0,1))\n",
    "    weights = ef.min_volatility()\n",
    "    \n",
    "    return weights"
   ]
  },
  {
   "cell_type": "code",
   "execution_count": 11,
   "metadata": {
    "pycharm": {
     "name": "#%%\n"
    }
   },
   "outputs": [],
   "source": [
    "Action = namedtuple('Action', ['lookback'])\n",
    "State = namedtuple('State', ['frobenius_norm'])"
   ]
  },
  {
   "cell_type": "code",
   "execution_count": 12,
   "metadata": {
    "pycharm": {
     "name": "#%%\n"
    }
   },
   "outputs": [],
   "source": [
    "lookbackOptions = np.arange(1,14,4)\n",
    "actionSpace = [Action(l) for l in lookbackOptions]\n",
    "\n",
    "stateSpace = [State(round(f,0)) for f in np.arange(frob.min()[0],frob.max()[0]+1,1)]"
   ]
  },
  {
   "cell_type": "code",
   "execution_count": 24,
   "metadata": {
    "pycharm": {
     "name": "#%%\n"
    }
   },
   "outputs": [],
   "source": [
    "alpha = 0.01 ## learning rate\n",
    "\n",
    "class TabularQLearner:\n",
    "    def __init__(self, act_space, state_space, eps=0.1):\n",
    "        self.actions = act_space\n",
    "        self.states = state_space\n",
    "        self.lookup = index_list(state_space)\n",
    "        self.Q = np.zeros((len(self.states), len(self.actions)))\n",
    "        self.epsilon = eps\n",
    "        self.action_lookup = index_list(act_space)\n",
    "        self.zero_trade = self.action_lookup[Action(1)]\n",
    "\n",
    "    def __greedy_action_index(self, state_index):\n",
    "        \"\"\"calculate the integer for indexing into self.Q or self.actions of the greedy action\"\"\"\n",
    "        q = self.Q[state_index]\n",
    "        if not np.any(q):\n",
    "            return self.zero_trade\n",
    "        else:\n",
    "            return np.argmax(q)\n",
    "\n",
    "    def greedy_action(self, state):\n",
    "        \"\"\"calculate the actual greedy action, not just its index\"\"\"\n",
    "        return self.actions[self.__greedy_action_index(self.lookup[state])]\n",
    "\n",
    "    def maxQ(self, state):\n",
    "        return max(self.Q[self.lookup[state]])\n",
    "\n",
    "    def train(self, frob):\n",
    "        for f in range(len(frob)-1):\n",
    "            curr = State(frob.loc[frob.index[f]][0])\n",
    "            i = self.lookup[curr]\n",
    "            \n",
    "            rand = runif()\n",
    "            # with probability epsilon, select action randomly from amongst all available actions with equal probability\n",
    "            if rand <= self.epsilon:\n",
    "                a = random.choice(self.actions)\n",
    "#                 print('random')\n",
    "            else:\n",
    "                a = self.greedy_action(curr)\n",
    "            j = self.action_lookup[a]\n",
    "            \n",
    "            prev_df = minute_df_usd_price_est[(minute_df_usd_price_est.index <= frob.index[f])]\n",
    "            lookback_df = prev_df.iloc[-a.lookback*23*60:]\n",
    "            w = markowitz_weight(lookback_df)\n",
    "            \n",
    "            # for reward calculation\n",
    "            train_df = ret_df_bps[(ret_df_bps.index <= frob.index[f+1]) & (ret_df_bps.index > frob.index[f])]\n",
    "            \n",
    "            train_performance = w*train_df\n",
    "            train_port = train_performance.sum(axis=1)\n",
    "            reward = -train_port.var()\n",
    "            \n",
    "            self.Q[i,j] = self.Q[i,j] + alpha * (reward - self.Q[i,j])"
   ]
  },
  {
   "cell_type": "code",
   "execution_count": 25,
   "metadata": {
    "pycharm": {
     "name": "#%%\n"
    }
   },
   "outputs": [],
   "source": [
    "learner = TabularQLearner(actionSpace, stateSpace, eps=0.1)\n",
    "learner.train(frob_train)"
   ]
  },
  {
   "cell_type": "code",
   "execution_count": 26,
   "metadata": {
    "pycharm": {
     "name": "#%%\n"
    }
   },
   "outputs": [
    {
     "data": {
      "text/plain": [
       "array([[-0.09717035, -0.08155494, -0.06990903, -0.06813427],\n",
       "       [-0.12069062, -0.12621096, -0.12494132, -0.09992933],\n",
       "       [-0.0259402 , -0.0602488 , -0.03361477, -0.06658073]])"
      ]
     },
     "execution_count": 26,
     "metadata": {},
     "output_type": "execute_result"
    }
   ],
   "source": [
    "learner.Q"
   ]
  },
  {
   "cell_type": "code",
   "execution_count": 27,
   "metadata": {
    "pycharm": {
     "name": "#%%\n"
    }
   },
   "outputs": [],
   "source": [
    "qfunction = pd.DataFrame(columns=['frobenius_norm', 'optimal_lookback'])\n",
    "for s in stateSpace:\n",
    "    optimal_lookback = learner.greedy_action(s).lookback\n",
    "    qfunction = qfunction.append({'frobenius_norm': s.frobenius_norm, 'optimal_lookback': optimal_lookback}, ignore_index = True)"
   ]
  },
  {
   "cell_type": "code",
   "execution_count": 28,
   "metadata": {
    "pycharm": {
     "name": "#%%\n"
    }
   },
   "outputs": [
    {
     "data": {
      "image/png": "[encoded data removed]",
      "text/plain": [
       "<Figure size 432x288 with 1 Axes>"
      ]
     },
     "metadata": {
      "needs_background": "light"
     },
     "output_type": "display_data"
    }
   ],
   "source": [
    "sns.lineplot(data=qfunction, x='frobenius_norm', y='optimal_lookback')\n",
    "plt.show()"
   ]
  },
  {
   "cell_type": "code",
   "execution_count": 29,
   "metadata": {
    "pycharm": {
     "name": "#%%\n"
    }
   },
   "outputs": [
    {
     "data": {
      "text/plain": [
       "0    0.097092\n",
       "dtype: float64"
      ]
     },
     "execution_count": 29,
     "metadata": {},
     "output_type": "execute_result"
    }
   ],
   "source": [
    "backtest_return = pd.DataFrame()\n",
    "for i in range(len(frob_backtest)-1):\n",
    "    curr = State(frob_backtest.loc[frob_backtest.index[i]][0])\n",
    "    optimal_lookback = learner.greedy_action(curr).lookback\n",
    "\n",
    "    prev_df = minute_df_usd_price_est[(minute_df_usd_price_est.index <= frob_backtest.index[i])]\n",
    "    lookback_df = prev_df.iloc[-optimal_lookback*23*60:]\n",
    "    w = markowitz_weight(lookback_df)\n",
    "\n",
    "    backtest_df = ret_df[(ret_df.index <= frob_backtest.index[i+1]) & (ret_df.index > frob_backtest.index[i])]\n",
    "\n",
    "    backtest_performance = w*backtest_df\n",
    "    backtest_port = backtest_performance.sum(axis=1)\n",
    "    backtest_return = backtest_return.append(pd.DataFrame(backtest_port))\n",
    "\n",
    "backtest_return.std()*np.sqrt(23*60*252)"
   ]
  }
 ],
 "metadata": {
  "kernelspec": {
   "display_name": "Python 3 (ipykernel)",
   "language": "python",
   "name": "python3"
  },
  "language_info": {
   "codemirror_mode": {
    "name": "ipython",
    "version": 3
   },
   "file_extension": ".py",
   "mimetype": "text/x-python",
   "name": "python",
   "nbconvert_exporter": "python",
   "pygments_lexer": "ipython3",
   "version": "3.9.7"
  }
 },
 "nbformat": 4,
 "nbformat_minor": 2
}