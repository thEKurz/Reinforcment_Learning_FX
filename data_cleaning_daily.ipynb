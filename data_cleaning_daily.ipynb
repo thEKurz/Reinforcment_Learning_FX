{
 "cells": [
  {
   "cell_type": "code",
   "execution_count": 2,
   "id": "dace7b93",
   "metadata": {},
   "outputs": [],
   "source": [
    "import numpy as np\n",
    "import pandas as pd\n",
    "import os\n",
    "from convert import *\n",
    "import datetime\n",
    "import time\n",
    "import cvxpy as cp"
   ]
  },
  {
   "cell_type": "code",
   "execution_count": null,
   "id": "b91b8225",
   "metadata": {
    "collapsed": true
   },
   "outputs": [
    {
     "name": "stdout",
     "output_type": "stream",
     "text": [
      "20220103_prices.h5\n",
      "20220104_prices.h5\n",
      "20220105_prices.h5\n",
      "20220106_prices.h5\n",
      "20220107_prices.h5\n",
      "20220110_prices.h5\n",
      "20220111_prices.h5\n",
      "20220112_prices.h5\n",
      "20220113_prices.h5\n",
      "20220114_prices.h5\n",
      "20220118_prices.h5\n",
      "20220119_prices.h5\n",
      "20220120_prices.h5\n",
      "20220121_prices.h5\n",
      "20220124_prices.h5\n",
      "20220125_prices.h5\n",
      "20220126_prices.h5\n",
      "20220127_prices.h5\n",
      "20220128_prices.h5\n",
      "20220131_prices.h5\n",
      "20220201_prices.h5\n",
      "20220202_prices.h5\n",
      "20220203_prices.h5\n",
      "20220204_prices.h5\n",
      "20220207_prices.h5\n",
      "20220208_prices.h5\n",
      "20220209_prices.h5\n",
      "20220210_prices.h5\n",
      "20220211_prices.h5\n",
      "20220214_prices.h5\n",
      "20220215_prices.h5\n",
      "20220216_prices.h5\n",
      "20220217_prices.h5\n",
      "20220218_prices.h5\n",
      "20220222_prices.h5\n",
      "20220223_prices.h5\n",
      "20220224_prices.h5\n",
      "20220225_prices.h5\n",
      "20220228_prices.h5\n",
      "20220301_prices.h5\n",
      "20220302_prices.h5\n",
      "20220303_prices.h5\n",
      "20220304_prices.h5\n",
      "20220307_prices.h5\n"
     ]
    }
   ],
   "source": [
    "def convert_dt(x):\n",
    "    return x.to_pydatetime()\n",
    "\n",
    "dir_list = os.listdir(r'D:\\Capstone_Data\\raw')\n",
    "dates = [datetime.datetime(year=int(item[:4]), month = int(item[4:6]), day = int(item[6:8])) for item in dir_list]\n",
    "symbols = np.unique(pd.read_hdf(r'D:\\Capstone_Data\\raw\\{}'.format(dir_list[0]), index=False).symbol)\n",
    "output_price_d = {}\n",
    "output_price_d['time_utc'] = dates\n",
    "for symbol in symbols:\n",
    "    output_price_d[symbol+'_bid'] = []\n",
    "    output_price_d[symbol+'_ask'] = []\n",
    "for i in range(len(dir_list)):\n",
    "    file = dir_list[i]\n",
    "    print(file)\n",
    "    if i>=48: #the index when daylight saving changes\n",
    "        hr = 20\n",
    "    else:\n",
    "        hr = 21\n",
    "    cutoff = datetime.datetime(year=int(file[:4]), month = int(file[4:6]), day = int(file[6:8]),\n",
    "                                hour = hr, minute = 30)\n",
    "    try:\n",
    "        df = pd.read_hdf(r'D:\\Capstone_Data\\raw\\{}'.format(file), index=False)\n",
    "        df.time_utc = df.time_utc.apply(convert_dt)\n",
    "        df = df[df['time_utc']<=cutoff]\n",
    "        for symbol in symbols:\n",
    "            try:\n",
    "                last_bid = df[df.symbol == symbol].bidprice1.values[-1]\n",
    "                last_ask = df[df.symbol == symbol].askprice1.values[-1]\n",
    "                output_price_d[symbol+'_bid'].append(last_bid)\n",
    "                output_price_d[symbol+'_ask'].append(last_ask)\n",
    "            except:\n",
    "                #this currency has no data\n",
    "                output_price_d[symbol+'_bid'].append(output_price_d[symbol+'_bid'][-1]) #forward fill\n",
    "                output_price_d[symbol+'_ask'].append(output_price_d[symbol+'_ask'][-1])\n",
    "    except:\n",
    "        #the file has failed to read (empty file)\n",
    "        for symbol in symbols:\n",
    "            output_price_d[symbol+'_bid'].append(output_price_d[symbol+'_bid'][-1])\n",
    "            output_price_d[symbol+'_ask'].append(output_price_d[symbol+'_ask'][-1])"
   ]
  },
  {
   "cell_type": "code",
   "execution_count": null,
   "id": "0968d324",
   "metadata": {},
   "outputs": [],
   "source": [
    "df_out = pd.DataFrame.from_dict(output_price_d)\n",
    "df_out_mid['EUR.NOK.SPOT'] = df_out_mid['EUR.NOK.SPOT']/df_out_mid['EUR.USD.SPOT']\n",
    "df_out_mid['EUR.SEK.SPOT'] = df_out_mid['EUR.SEK.SPOT']/df_out_mid['EUR.USD.SPOT']\n",
    "df_out_mid.rename(columns = {'EUR.NOK.SPOT':'USD.NOK.SPOT', 'EUR.SEK.SPOT':'USD.SEK.SPOT'}, inplace = True)\n",
    "for symbol in df_output_midprice.columns:\n",
    "    if symbol[:3] != 'USD':\n",
    "        df_out_mid[symbol] = 1/df_out_mid[symbol]\n",
    "        new_symbol = symbol[4:7]+'.'+symbol[:3]+'.SPOT'\n",
    "        df_out_mid.rename(columns = {symbol:new_symbol}, inplace = True)\n",
    "df_out_mid.to_csv(r'D:\\Capstone_Data\\cleaned\\daily_data_mid_usd.csv', index=False)"
   ]
  }
 ],
 "metadata": {
  "kernelspec": {
   "display_name": "bda22",
   "language": "python",
   "name": "bda22"
  },
  "language_info": {
   "codemirror_mode": {
    "name": "ipython",
    "version": 3
   },
   "file_extension": ".py",
   "mimetype": "text/x-python",
   "name": "python",
   "nbconvert_exporter": "python",
   "pygments_lexer": "ipython3",
   "version": "3.9.7"
  }
 },
 "nbformat": 4,
 "nbformat_minor": 5
}
