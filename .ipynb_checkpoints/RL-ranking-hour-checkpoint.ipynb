{
 "cells": [
  {
   "cell_type": "markdown",
   "metadata": {},
   "source": [
    "# RL"
   ]
  },
  {
   "cell_type": "code",
   "execution_count": 56,
   "metadata": {},
   "outputs": [],
   "source": [
    "## first, import the libraries we are going to use\n",
    "\n",
    "import matplotlib.pyplot as plt\n",
    "import sys\n",
    "import numpy as np \n",
    "import math\n",
    "import decimal\n",
    "from collections import namedtuple\n",
    "import pypfopt as pyp\n",
    "import collections\n",
    "from scipy import stats as st\n",
    "import time\n",
    "import random\n",
    "import pandas as pd\n",
    "import seaborn as sns\n",
    "import json\n",
    "import warnings\n",
    "warnings.filterwarnings(\"ignore\")"
   ]
  },
  {
   "cell_type": "code",
   "execution_count": 4,
   "metadata": {},
   "outputs": [],
   "source": [
    "minute_df_usd_price_est = pd.read_csv('minute_data_mid_usd_est.csv', index_col=0)\n",
    "minute_df_usd_price_est = minute_df_usd_price_est[['USD.EUR.SPOT','USD.CAD.SPOT','USD.JPY.SPOT']]\n",
    "minute_df_usd_price_est = minute_df_usd_price_est.ffill()\n",
    "minute_df_usd_price_est.index = pd.to_datetime(minute_df_usd_price_est.index)"
   ]
  },
  {
   "cell_type": "code",
   "execution_count": 5,
   "metadata": {},
   "outputs": [],
   "source": [
    "ret_df = minute_df_usd_price_est.pct_change()\n",
    "ret_df_bps = ret_df*10000"
   ]
  },
  {
   "cell_type": "code",
   "execution_count": 6,
   "metadata": {},
   "outputs": [],
   "source": [
    "hour_start = minute_df_usd_price_est.iloc[::60, :]"
   ]
  },
  {
   "cell_type": "code",
   "execution_count": 7,
   "metadata": {},
   "outputs": [],
   "source": [
    "hour_start_train = hour_start[hour_start.index < pd.Timestamp(2022,5,1)]\n",
    "hour_start_backtest = hour_start[(hour_start.index >= pd.Timestamp(2022,5,1)) & (hour_start.index < pd.Timestamp(2022,6,1))]\n",
    "hour_start_test = hour_start[(hour_start.index >= pd.Timestamp(2022,6,1))]"
   ]
  },
  {
   "cell_type": "code",
   "execution_count": 8,
   "metadata": {},
   "outputs": [
    {
     "data": {
      "text/html": [
       "<div>\n",
       "<style scoped>\n",
       "    .dataframe tbody tr th:only-of-type {\n",
       "        vertical-align: middle;\n",
       "    }\n",
       "\n",
       "    .dataframe tbody tr th {\n",
       "        vertical-align: top;\n",
       "    }\n",
       "\n",
       "    .dataframe thead th {\n",
       "        text-align: right;\n",
       "    }\n",
       "</style>\n",
       "<table border=\"1\" class=\"dataframe\">\n",
       "  <thead>\n",
       "    <tr style=\"text-align: right;\">\n",
       "      <th></th>\n",
       "      <th>USD.EUR.SPOT</th>\n",
       "      <th>USD.CAD.SPOT</th>\n",
       "      <th>USD.JPY.SPOT</th>\n",
       "    </tr>\n",
       "    <tr>\n",
       "      <th>time_est</th>\n",
       "      <th></th>\n",
       "      <th></th>\n",
       "      <th></th>\n",
       "    </tr>\n",
       "  </thead>\n",
       "  <tbody>\n",
       "    <tr>\n",
       "      <th>2022-01-02 18:00:00</th>\n",
       "      <td>1.137645</td>\n",
       "      <td>0.791258</td>\n",
       "      <td>0.008687</td>\n",
       "    </tr>\n",
       "    <tr>\n",
       "      <th>2022-01-02 19:00:00</th>\n",
       "      <td>1.137330</td>\n",
       "      <td>0.789999</td>\n",
       "      <td>0.008685</td>\n",
       "    </tr>\n",
       "    <tr>\n",
       "      <th>2022-01-02 20:00:00</th>\n",
       "      <td>1.136160</td>\n",
       "      <td>0.790267</td>\n",
       "      <td>0.008675</td>\n",
       "    </tr>\n",
       "    <tr>\n",
       "      <th>2022-01-02 21:00:00</th>\n",
       "      <td>1.135710</td>\n",
       "      <td>0.789777</td>\n",
       "      <td>0.008678</td>\n",
       "    </tr>\n",
       "    <tr>\n",
       "      <th>2022-01-02 22:00:00</th>\n",
       "      <td>1.134250</td>\n",
       "      <td>0.789092</td>\n",
       "      <td>0.008675</td>\n",
       "    </tr>\n",
       "    <tr>\n",
       "      <th>...</th>\n",
       "      <td>...</td>\n",
       "      <td>...</td>\n",
       "      <td>...</td>\n",
       "    </tr>\n",
       "    <tr>\n",
       "      <th>2022-04-29 12:00:00</th>\n",
       "      <td>1.053635</td>\n",
       "      <td>0.780930</td>\n",
       "      <td>0.007702</td>\n",
       "    </tr>\n",
       "    <tr>\n",
       "      <th>2022-04-29 13:00:00</th>\n",
       "      <td>1.055030</td>\n",
       "      <td>0.780323</td>\n",
       "      <td>0.007711</td>\n",
       "    </tr>\n",
       "    <tr>\n",
       "      <th>2022-04-29 14:00:00</th>\n",
       "      <td>1.057235</td>\n",
       "      <td>0.780582</td>\n",
       "      <td>0.007723</td>\n",
       "    </tr>\n",
       "    <tr>\n",
       "      <th>2022-04-29 15:00:00</th>\n",
       "      <td>1.056880</td>\n",
       "      <td>0.779232</td>\n",
       "      <td>0.007725</td>\n",
       "    </tr>\n",
       "    <tr>\n",
       "      <th>2022-04-29 16:00:00</th>\n",
       "      <td>1.054790</td>\n",
       "      <td>0.778407</td>\n",
       "      <td>0.007705</td>\n",
       "    </tr>\n",
       "  </tbody>\n",
       "</table>\n",
       "<p>1863 rows × 3 columns</p>\n",
       "</div>"
      ],
      "text/plain": [
       "                     USD.EUR.SPOT  USD.CAD.SPOT  USD.JPY.SPOT\n",
       "time_est                                                     \n",
       "2022-01-02 18:00:00      1.137645      0.791258      0.008687\n",
       "2022-01-02 19:00:00      1.137330      0.789999      0.008685\n",
       "2022-01-02 20:00:00      1.136160      0.790267      0.008675\n",
       "2022-01-02 21:00:00      1.135710      0.789777      0.008678\n",
       "2022-01-02 22:00:00      1.134250      0.789092      0.008675\n",
       "...                           ...           ...           ...\n",
       "2022-04-29 12:00:00      1.053635      0.780930      0.007702\n",
       "2022-04-29 13:00:00      1.055030      0.780323      0.007711\n",
       "2022-04-29 14:00:00      1.057235      0.780582      0.007723\n",
       "2022-04-29 15:00:00      1.056880      0.779232      0.007725\n",
       "2022-04-29 16:00:00      1.054790      0.778407      0.007705\n",
       "\n",
       "[1863 rows x 3 columns]"
      ]
     },
     "execution_count": 8,
     "metadata": {},
     "output_type": "execute_result"
    }
   ],
   "source": [
    "hour_start_train"
   ]
  },
  {
   "cell_type": "code",
   "execution_count": 9,
   "metadata": {},
   "outputs": [],
   "source": [
    "def runif(): \n",
    "    \"\"\"uniform random number generator\"\"\"\n",
    "    return np.random.uniform(0, 1, 1)[0]"
   ]
  },
  {
   "cell_type": "code",
   "execution_count": 10,
   "metadata": {},
   "outputs": [],
   "source": [
    "def index_list(L): \n",
    "    \"\"\"from a list, build a dictionary which list element to position\"\"\"\n",
    "    return dict(zip(L, [x for x in range(0, len(L))]))"
   ]
  },
  {
   "cell_type": "code",
   "execution_count": 12,
   "metadata": {},
   "outputs": [],
   "source": [
    "Action = namedtuple('Action', ['weight'])\n",
    "State = namedtuple('State', ['ranking','hour'])"
   ]
  },
  {
   "cell_type": "code",
   "execution_count": 381,
   "metadata": {},
   "outputs": [],
   "source": [
    "def get_ranking(securities_returns, lookback):\n",
    "    ranking = {\"Date\":[],\"USD.EUR\":[],\"USD.CAD\":[],\"USD.JPY\":[],\"hour\":[]}\n",
    "    var_asset = {\"Date\":[],\"USD.EUR\":[],\"USD.CAD\":[],\"USD.JPY\":[], \"hour\":[]}\n",
    "    dates = []\n",
    "#     for i in range(23*60,len(securities_returns),23*60):\n",
    "    # at what interval you want to train\n",
    "    interval = 60\n",
    "    for i in range(0,len(securities_returns),interval):\n",
    "        vector = securities_returns[i:i+lookback]\n",
    "#         print(vector.index[0],vector.index[-1])\n",
    "#         prior_vector = securities_returns[i-interval:i+lookback-interval]\n",
    "        var = vector.var().values\n",
    "        rank = var.argsort().argsort()\n",
    "#         rank = tuple(-1*rank + 2)\n",
    "\n",
    "        ranking[\"Date\"].append(vector.index[-1]) # 0: forward looking (cheating), -1: lookback\n",
    "        ranking[\"USD.EUR\"].append(rank[0])\n",
    "        ranking[\"USD.CAD\"].append(rank[1])\n",
    "        ranking[\"USD.JPY\"].append(rank[2])\n",
    "        ranking[\"hour\"].append(vector.index[-1].hour) # 0: forward looking (cheating), -1: lookback\n",
    "        \n",
    "        var_asset[\"Date\"].append(vector.index[-1]) # 0: forward looking (cheating), -1: lookback\n",
    "        var_asset[\"USD.EUR\"].append(var[0])\n",
    "        var_asset[\"USD.CAD\"].append(var[1])\n",
    "        var_asset[\"USD.JPY\"].append(var[2])\n",
    "        var_asset[\"hour\"].append(vector.index[-1].hour) # 0: forward looking (cheating), -1: lookback\n",
    "\n",
    "        dates.append(vector.index[-1])\n",
    "    ranking_df = pd.DataFrame(ranking, columns=['Date', 'USD.EUR', 'USD.CAD','USD.JPY','hour'])\n",
    "    ranking_df.set_index('Date', inplace=True)\n",
    "    \n",
    "    var_asset_df = pd.DataFrame(var_asset, columns=['Date', 'USD.EUR', 'USD.CAD','USD.JPY','hour'])\n",
    "    var_asset_df.set_index('Date', inplace=True)\n",
    "    \n",
    "    return ranking_df, var_asset_df"
   ]
  },
  {
   "cell_type": "code",
   "execution_count": 382,
   "metadata": {},
   "outputs": [],
   "source": [
    "lookback = 60\n",
    "rankings,var_asset = get_ranking(ret_df_bps,lookback)"
   ]
  },
  {
   "cell_type": "code",
   "execution_count": 383,
   "metadata": {},
   "outputs": [
    {
     "data": {
      "text/html": [
       "<div>\n",
       "<style scoped>\n",
       "    .dataframe tbody tr th:only-of-type {\n",
       "        vertical-align: middle;\n",
       "    }\n",
       "\n",
       "    .dataframe tbody tr th {\n",
       "        vertical-align: top;\n",
       "    }\n",
       "\n",
       "    .dataframe thead th {\n",
       "        text-align: right;\n",
       "    }\n",
       "</style>\n",
       "<table border=\"1\" class=\"dataframe\">\n",
       "  <thead>\n",
       "    <tr style=\"text-align: right;\">\n",
       "      <th></th>\n",
       "      <th>USD.EUR</th>\n",
       "      <th>USD.CAD</th>\n",
       "      <th>USD.JPY</th>\n",
       "      <th>hour</th>\n",
       "    </tr>\n",
       "    <tr>\n",
       "      <th>Date</th>\n",
       "      <th></th>\n",
       "      <th></th>\n",
       "      <th></th>\n",
       "      <th></th>\n",
       "    </tr>\n",
       "  </thead>\n",
       "  <tbody>\n",
       "    <tr>\n",
       "      <th>2022-01-02 18:59:00</th>\n",
       "      <td>1</td>\n",
       "      <td>2</td>\n",
       "      <td>0</td>\n",
       "      <td>18</td>\n",
       "    </tr>\n",
       "    <tr>\n",
       "      <th>2022-01-02 19:59:00</th>\n",
       "      <td>2</td>\n",
       "      <td>1</td>\n",
       "      <td>0</td>\n",
       "      <td>19</td>\n",
       "    </tr>\n",
       "    <tr>\n",
       "      <th>2022-01-02 20:59:00</th>\n",
       "      <td>2</td>\n",
       "      <td>1</td>\n",
       "      <td>0</td>\n",
       "      <td>20</td>\n",
       "    </tr>\n",
       "    <tr>\n",
       "      <th>2022-01-02 21:59:00</th>\n",
       "      <td>1</td>\n",
       "      <td>2</td>\n",
       "      <td>0</td>\n",
       "      <td>21</td>\n",
       "    </tr>\n",
       "    <tr>\n",
       "      <th>2022-01-02 22:59:00</th>\n",
       "      <td>2</td>\n",
       "      <td>1</td>\n",
       "      <td>0</td>\n",
       "      <td>22</td>\n",
       "    </tr>\n",
       "    <tr>\n",
       "      <th>...</th>\n",
       "      <td>...</td>\n",
       "      <td>...</td>\n",
       "      <td>...</td>\n",
       "      <td>...</td>\n",
       "    </tr>\n",
       "    <tr>\n",
       "      <th>2022-06-30 12:59:00</th>\n",
       "      <td>2</td>\n",
       "      <td>0</td>\n",
       "      <td>1</td>\n",
       "      <td>12</td>\n",
       "    </tr>\n",
       "    <tr>\n",
       "      <th>2022-06-30 13:59:00</th>\n",
       "      <td>0</td>\n",
       "      <td>2</td>\n",
       "      <td>1</td>\n",
       "      <td>13</td>\n",
       "    </tr>\n",
       "    <tr>\n",
       "      <th>2022-06-30 14:59:00</th>\n",
       "      <td>1</td>\n",
       "      <td>2</td>\n",
       "      <td>0</td>\n",
       "      <td>14</td>\n",
       "    </tr>\n",
       "    <tr>\n",
       "      <th>2022-06-30 15:59:00</th>\n",
       "      <td>1</td>\n",
       "      <td>2</td>\n",
       "      <td>0</td>\n",
       "      <td>15</td>\n",
       "    </tr>\n",
       "    <tr>\n",
       "      <th>2022-06-30 16:59:00</th>\n",
       "      <td>0</td>\n",
       "      <td>2</td>\n",
       "      <td>1</td>\n",
       "      <td>16</td>\n",
       "    </tr>\n",
       "  </tbody>\n",
       "</table>\n",
       "<p>2783 rows × 4 columns</p>\n",
       "</div>"
      ],
      "text/plain": [
       "                     USD.EUR  USD.CAD  USD.JPY  hour\n",
       "Date                                                \n",
       "2022-01-02 18:59:00        1        2        0    18\n",
       "2022-01-02 19:59:00        2        1        0    19\n",
       "2022-01-02 20:59:00        2        1        0    20\n",
       "2022-01-02 21:59:00        1        2        0    21\n",
       "2022-01-02 22:59:00        2        1        0    22\n",
       "...                      ...      ...      ...   ...\n",
       "2022-06-30 12:59:00        2        0        1    12\n",
       "2022-06-30 13:59:00        0        2        1    13\n",
       "2022-06-30 14:59:00        1        2        0    14\n",
       "2022-06-30 15:59:00        1        2        0    15\n",
       "2022-06-30 16:59:00        0        2        1    16\n",
       "\n",
       "[2783 rows x 4 columns]"
      ]
     },
     "execution_count": 383,
     "metadata": {},
     "output_type": "execute_result"
    }
   ],
   "source": [
    "rankings"
   ]
  },
  {
   "cell_type": "code",
   "execution_count": 362,
   "metadata": {},
   "outputs": [
    {
     "data": {
      "image/png": "[encoded data removed]",
      "text/plain": [
       "<Figure size 432x288 with 1 Axes>"
      ]
     },
     "metadata": {
      "needs_background": "light"
     },
     "output_type": "display_data"
    },
    {
     "data": {
      "image/png": "[encoded data removed]",
      "text/plain": [
       "<Figure size 432x288 with 1 Axes>"
      ]
     },
     "metadata": {
      "needs_background": "light"
     },
     "output_type": "display_data"
    },
    {
     "data": {
      "image/png": "[encoded data removed]",
      "text/plain": [
       "<Figure size 432x288 with 1 Axes>"
      ]
     },
     "metadata": {
      "needs_background": "light"
     },
     "output_type": "display_data"
    }
   ],
   "source": [
    "for col in var_asset.columns:\n",
    "    if col == \"hour\":\n",
    "        continue\n",
    "    var_asset[col].plot()\n",
    "    plt.title(col)\n",
    "    plt.ylabel(f'Variance of {col}')\n",
    "    plt.show()"
   ]
  },
  {
   "cell_type": "code",
   "execution_count": 1331,
   "metadata": {},
   "outputs": [
    {
     "data": {
      "text/plain": [
       "array([0.13333333, 0.2       , 0.66666667])"
      ]
     },
     "execution_count": 1331,
     "metadata": {},
     "output_type": "execute_result"
    }
   ],
   "source": [
    "avg_rank = rankings[(rankings.index <= rankings.index[100]) & (rankings.hour == rankings.index[100].hour)].values.mean(axis=0)[:3]\n",
    "avg_rank /= sum(avg_rank)\n",
    "avg_rank"
   ]
  },
  {
   "cell_type": "code",
   "execution_count": 384,
   "metadata": {},
   "outputs": [],
   "source": [
    "ranking_df_train = rankings[(rankings.index >= pd.Timestamp(2022,1,1)) & (rankings.index < pd.Timestamp(2022,5,1))]\n",
    "ranking_df_test = rankings[(rankings.index >= pd.Timestamp(2022,5,1)) & (rankings.index < pd.Timestamp(2022,6,1))]"
   ]
  },
  {
   "cell_type": "code",
   "execution_count": 289,
   "metadata": {},
   "outputs": [
    {
     "data": {
      "text/plain": [
       "1841"
      ]
     },
     "execution_count": 289,
     "metadata": {},
     "output_type": "execute_result"
    }
   ],
   "source": [
    "len(ranking_df_train)"
   ]
  },
  {
   "cell_type": "code",
   "execution_count": 385,
   "metadata": {},
   "outputs": [],
   "source": [
    "# weightOptions = [(1/3,1/3,1/3),(1/2,1/4,1/4),(1/4,1/2,1/4),(1/4,1/4,1/2)]\n",
    "weightOptions = [(1/10,1/10,8/10),(1/10,8/10,1/10),(8/10,1/10,1/10),(1/3,1/3,1/3)]\n",
    "# weightOptions = [(1,0,0),(0,1,0),(0,0,1)]\n",
    "# weightOptions = [(1/3,1/3,1/3),(1,0,0),(0,1,0),(0,0,1)]\n",
    "\n",
    "actionSpace = [Action(w) for w in weightOptions]\n",
    "\n",
    "rankingSpace = [(0,1,2),(0,2,1),(1,0,2),(2,0,1),(1,2,0),(2,1,0)]\n",
    "stateSpace = []\n",
    "hours = np.arange(24)\n",
    "hours = np.delete(hours,17)\n",
    "for rank in rankingSpace:\n",
    "    for h in hours:\n",
    "        stateSpace.append(State(ranking=rank,hour=h))\n",
    "\n",
    "# stateSpace = [State(ranking=rank,hour=h) for rank,h in combination(rankingSpace,hours)]"
   ]
  },
  {
   "cell_type": "code",
   "execution_count": 372,
   "metadata": {},
   "outputs": [],
   "source": [
    "alpha = 0.01 ## learning rate\n",
    "\n",
    "class TabularQLearner:\n",
    "    def __init__(self, act_space, state_space, eps=0.1):\n",
    "        self.actions = act_space\n",
    "        self.states = state_space\n",
    "        self.lookup = index_list(state_space)\n",
    "        self.Q = np.zeros((len(self.states), len(self.actions)))\n",
    "        self.epsilon = eps\n",
    "        self.action_lookup = index_list(act_space)\n",
    "        self.zero_trade = self.action_lookup[act_space[0]]\n",
    "\n",
    "    def __greedy_action_index(self, state_index):\n",
    "        \"\"\"calculate the integer for indexing into self.Q or self.actions of the greedy action\"\"\"\n",
    "        q = self.Q[state_index]\n",
    "        if not np.any(q):\n",
    "            return self.zero_trade\n",
    "        else:\n",
    "            return np.argmax(q)\n",
    "\n",
    "    def greedy_action(self, state):\n",
    "        \"\"\"calculate the actual greedy action, not just its index\"\"\"\n",
    "        return self.actions[self.__greedy_action_index(self.lookup[state])]\n",
    "\n",
    "    def maxQ(self, state):\n",
    "        return max(self.Q[self.lookup[state]])\n",
    "\n",
    "    def train(self, rankings,epochs = 10):\n",
    "        for _ in range(epochs):\n",
    "            for r in range(0,len(rankings)-1):\n",
    "    #             print(rankings.index[r])\n",
    "                rank,hour = tuple(rankings.loc[rankings.index[r]].values)[:3],tuple(rankings.loc[rankings.index[r]].values)[-1]\n",
    "                curr = State(ranking=rank,hour=hour)\n",
    "    #             print(curr)\n",
    "    #             state = tuple(np.argsort(np.argsort(train_df.var().values)))\n",
    "    #             curr = State(state)\n",
    "                i = self.lookup[curr]\n",
    "\n",
    "                rand = runif()\n",
    "                # with probability epsilon, select action randomly from amongst all available actions with equal probability\n",
    "                if rand <= self.epsilon:\n",
    "                    a = random.choice(self.actions)\n",
    "                else:\n",
    "                    a = self.greedy_action(curr)\n",
    "                j = self.action_lookup[a]\n",
    "\n",
    "                # for reward calculation\n",
    "                train_df = ret_df_bps[(ret_df_bps.index <= rankings.index[r+1]) & (ret_df_bps.index > rankings.index[r])]\n",
    "#                 print(train_df)\n",
    "    #             average_rank = rankings[(rankings.index <= rankings.index[r]) & (rankings.hour == rankings.index[r].hour)].values.mean(axis=0)[:3]\n",
    "    #             print(train_df.index[0],train_df.index[-1])\n",
    "    #             average_rank /= sum(average_rank)\n",
    "    #             opt_weights = np.array(a.weight)*average_rank / sum(np.array(a.weight)*average_rank)\n",
    "\n",
    "                train_performance = np.array(a.weight)*train_df\n",
    "                train_port = train_performance.sum(axis=1)\n",
    "    #             print(train_performance)\n",
    "                reward = -train_port.var()\n",
    "    #             print(reward)\n",
    "\n",
    "                self.Q[i,j] = self.Q[i,j] + alpha * (reward - self.Q[i,j])\n",
    "        "
   ]
  },
  {
   "cell_type": "code",
   "execution_count": 386,
   "metadata": {},
   "outputs": [],
   "source": [
    "learner = TabularQLearner(actionSpace, stateSpace, eps=0.1)\n",
    "learner.train(ranking_df_train,epochs = 1)"
   ]
  },
  {
   "cell_type": "code",
   "execution_count": 345,
   "metadata": {},
   "outputs": [],
   "source": [
    "grouped_ranking = {}\n",
    "var_asset_ranking = {}\n",
    "count = {}\n",
    "for state in stateSpace:\n",
    "    (a,b,c),hour = state.ranking,state.hour\n",
    "    grouped_ranking[(a,b,c)] = rankings.loc[(rankings['USD.EUR'] == a) & (rankings['USD.CAD'] == b) & (rankings['USD.JPY'] == c)]\n",
    "    var_asset_ranking[(a,b,c)] = var_asset.loc[var_asset.index.isin(grouped_ranking[(a,b,c)].index)]              \n",
    "    count[(a,b,c)] = len(grouped_ranking[(a,b,c)])"
   ]
  },
  {
   "cell_type": "code",
   "execution_count": 346,
   "metadata": {},
   "outputs": [
    {
     "data": {
      "text/plain": [
       "{(0, 1, 2): 357,\n",
       " (0, 2, 1): 266,\n",
       " (1, 0, 2): 616,\n",
       " (2, 0, 1): 436,\n",
       " (1, 2, 0): 485,\n",
       " (2, 1, 0): 623}"
      ]
     },
     "execution_count": 346,
     "metadata": {},
     "output_type": "execute_result"
    }
   ],
   "source": [
    "count"
   ]
  },
  {
   "cell_type": "code",
   "execution_count": 347,
   "metadata": {},
   "outputs": [],
   "source": [
    "currency = ['USD.EUR', 'USD.CAD','USD.JPY']"
   ]
  },
  {
   "cell_type": "code",
   "execution_count": 408,
   "metadata": {},
   "outputs": [],
   "source": [
    "qfunction_rank = pd.DataFrame(columns=['Ranking', 'optimal_weight_eur', 'optimal_weight_cad', 'optimal_weight_jpy'])\n",
    "qfunction_hour = pd.DataFrame(columns=['Hour', 'optimal_weight_eur', 'optimal_weight_cad', 'optimal_weight_jpy'])\n",
    "qfunction_rank_hour = pd.DataFrame(columns=['Ranking','Hour', 'optimal_weights',\"currency\"])\n",
    "\n",
    "ranking_weights = collections.defaultdict(list)\n",
    "hour_weights = collections.defaultdict(list)\n",
    "\n",
    "for s in stateSpace:\n",
    "    optimal_weight = learner.greedy_action(s).weight\n",
    "#     if count[s.ranking] < 10:\n",
    "#         continue\n",
    "    ranking_weights[s.ranking].append(np.array(optimal_weight))\n",
    "    hour_weights[s.hour].append(np.array(optimal_weight))\n",
    "    max_weight_curr = np.array(optimal_weight).argmax()\n",
    "    qfunction_rank_hour = qfunction_rank_hour.append({'Ranking': s.ranking, 'Hour':s.hour,'optimal_weights': optimal_weight[max_weight_curr], \"currency\": currency[max_weight_curr]}, ignore_index = True)\n",
    "\n",
    "for rank in ranking_weights.keys():\n",
    "    optimal_weight_rank = np.array(ranking_weights[rank]).mean(axis=0)\n",
    "    qfunction_rank = qfunction_rank.append({'Ranking': rank, 'optimal_weight_eur': optimal_weight_rank[0], 'optimal_weight_cad': optimal_weight_rank[1], 'optimal_weight_jpy': optimal_weight_rank[2]}, ignore_index = True)\n",
    "for hour in hour_weights.keys():\n",
    "    optimal_weight_hour = np.array(hour_weights[hour]).mean(axis=0)\n",
    "    qfunction_hour = qfunction_hour.append({'Hour': hour, 'optimal_weight_eur': optimal_weight_hour[0], 'optimal_weight_cad': optimal_weight_hour[1], 'optimal_weight_jpy': optimal_weight_hour[2]}, ignore_index = True)\n",
    "\n"
   ]
  },
  {
   "cell_type": "code",
   "execution_count": 409,
   "metadata": {},
   "outputs": [
    {
     "data": {
      "text/html": [
       "<div>\n",
       "<style scoped>\n",
       "    .dataframe tbody tr th:only-of-type {\n",
       "        vertical-align: middle;\n",
       "    }\n",
       "\n",
       "    .dataframe tbody tr th {\n",
       "        vertical-align: top;\n",
       "    }\n",
       "\n",
       "    .dataframe thead th {\n",
       "        text-align: right;\n",
       "    }\n",
       "</style>\n",
       "<table border=\"1\" class=\"dataframe\">\n",
       "  <thead>\n",
       "    <tr style=\"text-align: right;\">\n",
       "      <th></th>\n",
       "      <th>Ranking</th>\n",
       "      <th>Hour</th>\n",
       "      <th>optimal_weights</th>\n",
       "      <th>currency</th>\n",
       "    </tr>\n",
       "  </thead>\n",
       "  <tbody>\n",
       "    <tr>\n",
       "      <th>0</th>\n",
       "      <td>(0, 1, 2)</td>\n",
       "      <td>0</td>\n",
       "      <td>0.800000</td>\n",
       "      <td>USD.JPY</td>\n",
       "    </tr>\n",
       "    <tr>\n",
       "      <th>1</th>\n",
       "      <td>(0, 1, 2)</td>\n",
       "      <td>1</td>\n",
       "      <td>0.800000</td>\n",
       "      <td>USD.EUR</td>\n",
       "    </tr>\n",
       "    <tr>\n",
       "      <th>2</th>\n",
       "      <td>(0, 1, 2)</td>\n",
       "      <td>2</td>\n",
       "      <td>0.800000</td>\n",
       "      <td>USD.EUR</td>\n",
       "    </tr>\n",
       "    <tr>\n",
       "      <th>3</th>\n",
       "      <td>(0, 1, 2)</td>\n",
       "      <td>3</td>\n",
       "      <td>0.333333</td>\n",
       "      <td>USD.EUR</td>\n",
       "    </tr>\n",
       "    <tr>\n",
       "      <th>4</th>\n",
       "      <td>(0, 1, 2)</td>\n",
       "      <td>4</td>\n",
       "      <td>0.800000</td>\n",
       "      <td>USD.EUR</td>\n",
       "    </tr>\n",
       "    <tr>\n",
       "      <th>...</th>\n",
       "      <td>...</td>\n",
       "      <td>...</td>\n",
       "      <td>...</td>\n",
       "      <td>...</td>\n",
       "    </tr>\n",
       "    <tr>\n",
       "      <th>133</th>\n",
       "      <td>(2, 1, 0)</td>\n",
       "      <td>19</td>\n",
       "      <td>0.800000</td>\n",
       "      <td>USD.JPY</td>\n",
       "    </tr>\n",
       "    <tr>\n",
       "      <th>134</th>\n",
       "      <td>(2, 1, 0)</td>\n",
       "      <td>20</td>\n",
       "      <td>0.800000</td>\n",
       "      <td>USD.CAD</td>\n",
       "    </tr>\n",
       "    <tr>\n",
       "      <th>135</th>\n",
       "      <td>(2, 1, 0)</td>\n",
       "      <td>21</td>\n",
       "      <td>0.800000</td>\n",
       "      <td>USD.CAD</td>\n",
       "    </tr>\n",
       "    <tr>\n",
       "      <th>136</th>\n",
       "      <td>(2, 1, 0)</td>\n",
       "      <td>22</td>\n",
       "      <td>0.800000</td>\n",
       "      <td>USD.CAD</td>\n",
       "    </tr>\n",
       "    <tr>\n",
       "      <th>137</th>\n",
       "      <td>(2, 1, 0)</td>\n",
       "      <td>23</td>\n",
       "      <td>0.333333</td>\n",
       "      <td>USD.EUR</td>\n",
       "    </tr>\n",
       "  </tbody>\n",
       "</table>\n",
       "<p>138 rows × 4 columns</p>\n",
       "</div>"
      ],
      "text/plain": [
       "       Ranking Hour  optimal_weights currency\n",
       "0    (0, 1, 2)    0         0.800000  USD.JPY\n",
       "1    (0, 1, 2)    1         0.800000  USD.EUR\n",
       "2    (0, 1, 2)    2         0.800000  USD.EUR\n",
       "3    (0, 1, 2)    3         0.333333  USD.EUR\n",
       "4    (0, 1, 2)    4         0.800000  USD.EUR\n",
       "..         ...  ...              ...      ...\n",
       "133  (2, 1, 0)   19         0.800000  USD.JPY\n",
       "134  (2, 1, 0)   20         0.800000  USD.CAD\n",
       "135  (2, 1, 0)   21         0.800000  USD.CAD\n",
       "136  (2, 1, 0)   22         0.800000  USD.CAD\n",
       "137  (2, 1, 0)   23         0.333333  USD.EUR\n",
       "\n",
       "[138 rows x 4 columns]"
      ]
     },
     "execution_count": 409,
     "metadata": {},
     "output_type": "execute_result"
    }
   ],
   "source": [
    "qfunction_rank_hour"
   ]
  },
  {
   "cell_type": "code",
   "execution_count": 410,
   "metadata": {},
   "outputs": [
    {
     "data": {
      "text/plain": [
       "<AxesSubplot:xlabel='Hour', ylabel='Ranking'>"
      ]
     },
     "execution_count": 410,
     "metadata": {},
     "output_type": "execute_result"
    },
    {
     "data": {
      "image/png": "[encoded data removed]",
      "text/plain": [
       "<Figure size 2160x864 with 2 Axes>"
      ]
     },
     "metadata": {
      "needs_background": "light"
     },
     "output_type": "display_data"
    }
   ],
   "source": [
    "pivot = qfunction_rank_hour.pivot(index='Hour', columns='Ranking', values=['optimal_weights','currency']).T\n",
    "f, ax = plt.subplots(figsize=(30, 12))\n",
    "pivot_table = pivot.loc['optimal_weights'].astype(float)\n",
    "M = pivot.loc['currency']\n",
    "N = pivot.loc['optimal_weights']\n",
    "A = np.array([[f'{M[i][j]}' for j in range(6)] for i in hours])\n",
    "sns.heatmap(pivot_table, annot=A.T, linewidths=.5, ax=ax, fmt='')"
   ]
  },
  {
   "cell_type": "code",
   "execution_count": 352,
   "metadata": {},
   "outputs": [
    {
     "data": {
      "text/html": [
       "<div>\n",
       "<style scoped>\n",
       "    .dataframe tbody tr th:only-of-type {\n",
       "        vertical-align: middle;\n",
       "    }\n",
       "\n",
       "    .dataframe tbody tr th {\n",
       "        vertical-align: top;\n",
       "    }\n",
       "\n",
       "    .dataframe thead th {\n",
       "        text-align: right;\n",
       "    }\n",
       "</style>\n",
       "<table border=\"1\" class=\"dataframe\">\n",
       "  <thead>\n",
       "    <tr style=\"text-align: right;\">\n",
       "      <th></th>\n",
       "      <th>Ranking</th>\n",
       "      <th>optimal_weight_eur</th>\n",
       "      <th>optimal_weight_cad</th>\n",
       "      <th>optimal_weight_jpy</th>\n",
       "    </tr>\n",
       "  </thead>\n",
       "  <tbody>\n",
       "    <tr>\n",
       "      <th>0</th>\n",
       "      <td>(0, 1, 2)</td>\n",
       "      <td>0.391304</td>\n",
       "      <td>0.521739</td>\n",
       "      <td>0.086957</td>\n",
       "    </tr>\n",
       "    <tr>\n",
       "      <th>1</th>\n",
       "      <td>(0, 2, 1)</td>\n",
       "      <td>0.434783</td>\n",
       "      <td>0.173913</td>\n",
       "      <td>0.391304</td>\n",
       "    </tr>\n",
       "    <tr>\n",
       "      <th>2</th>\n",
       "      <td>(1, 0, 2)</td>\n",
       "      <td>0.304348</td>\n",
       "      <td>0.608696</td>\n",
       "      <td>0.086957</td>\n",
       "    </tr>\n",
       "    <tr>\n",
       "      <th>3</th>\n",
       "      <td>(2, 0, 1)</td>\n",
       "      <td>0.173913</td>\n",
       "      <td>0.434783</td>\n",
       "      <td>0.391304</td>\n",
       "    </tr>\n",
       "    <tr>\n",
       "      <th>4</th>\n",
       "      <td>(1, 2, 0)</td>\n",
       "      <td>0.391304</td>\n",
       "      <td>0.217391</td>\n",
       "      <td>0.391304</td>\n",
       "    </tr>\n",
       "    <tr>\n",
       "      <th>5</th>\n",
       "      <td>(2, 1, 0)</td>\n",
       "      <td>0.043478</td>\n",
       "      <td>0.347826</td>\n",
       "      <td>0.608696</td>\n",
       "    </tr>\n",
       "  </tbody>\n",
       "</table>\n",
       "</div>"
      ],
      "text/plain": [
       "     Ranking  optimal_weight_eur  optimal_weight_cad  optimal_weight_jpy\n",
       "0  (0, 1, 2)            0.391304            0.521739            0.086957\n",
       "1  (0, 2, 1)            0.434783            0.173913            0.391304\n",
       "2  (1, 0, 2)            0.304348            0.608696            0.086957\n",
       "3  (2, 0, 1)            0.173913            0.434783            0.391304\n",
       "4  (1, 2, 0)            0.391304            0.217391            0.391304\n",
       "5  (2, 1, 0)            0.043478            0.347826            0.608696"
      ]
     },
     "execution_count": 352,
     "metadata": {},
     "output_type": "execute_result"
    }
   ],
   "source": [
    "qfunction_rank"
   ]
  },
  {
   "cell_type": "code",
   "execution_count": 353,
   "metadata": {},
   "outputs": [
    {
     "data": {
      "text/html": [
       "<div>\n",
       "<style scoped>\n",
       "    .dataframe tbody tr th:only-of-type {\n",
       "        vertical-align: middle;\n",
       "    }\n",
       "\n",
       "    .dataframe tbody tr th {\n",
       "        vertical-align: top;\n",
       "    }\n",
       "\n",
       "    .dataframe thead th {\n",
       "        text-align: right;\n",
       "    }\n",
       "</style>\n",
       "<table border=\"1\" class=\"dataframe\">\n",
       "  <thead>\n",
       "    <tr style=\"text-align: right;\">\n",
       "      <th></th>\n",
       "      <th>Hour</th>\n",
       "      <th>optimal_weight_eur</th>\n",
       "      <th>optimal_weight_cad</th>\n",
       "      <th>optimal_weight_jpy</th>\n",
       "    </tr>\n",
       "  </thead>\n",
       "  <tbody>\n",
       "    <tr>\n",
       "      <th>0</th>\n",
       "      <td>0.0</td>\n",
       "      <td>0.166667</td>\n",
       "      <td>0.500000</td>\n",
       "      <td>0.333333</td>\n",
       "    </tr>\n",
       "    <tr>\n",
       "      <th>1</th>\n",
       "      <td>1.0</td>\n",
       "      <td>0.333333</td>\n",
       "      <td>0.500000</td>\n",
       "      <td>0.166667</td>\n",
       "    </tr>\n",
       "    <tr>\n",
       "      <th>2</th>\n",
       "      <td>2.0</td>\n",
       "      <td>0.166667</td>\n",
       "      <td>0.500000</td>\n",
       "      <td>0.333333</td>\n",
       "    </tr>\n",
       "    <tr>\n",
       "      <th>3</th>\n",
       "      <td>3.0</td>\n",
       "      <td>0.333333</td>\n",
       "      <td>0.333333</td>\n",
       "      <td>0.333333</td>\n",
       "    </tr>\n",
       "    <tr>\n",
       "      <th>4</th>\n",
       "      <td>4.0</td>\n",
       "      <td>0.000000</td>\n",
       "      <td>0.500000</td>\n",
       "      <td>0.500000</td>\n",
       "    </tr>\n",
       "    <tr>\n",
       "      <th>5</th>\n",
       "      <td>5.0</td>\n",
       "      <td>0.333333</td>\n",
       "      <td>0.166667</td>\n",
       "      <td>0.500000</td>\n",
       "    </tr>\n",
       "    <tr>\n",
       "      <th>6</th>\n",
       "      <td>6.0</td>\n",
       "      <td>0.166667</td>\n",
       "      <td>0.666667</td>\n",
       "      <td>0.166667</td>\n",
       "    </tr>\n",
       "    <tr>\n",
       "      <th>7</th>\n",
       "      <td>7.0</td>\n",
       "      <td>0.166667</td>\n",
       "      <td>0.333333</td>\n",
       "      <td>0.500000</td>\n",
       "    </tr>\n",
       "    <tr>\n",
       "      <th>8</th>\n",
       "      <td>8.0</td>\n",
       "      <td>0.333333</td>\n",
       "      <td>0.166667</td>\n",
       "      <td>0.500000</td>\n",
       "    </tr>\n",
       "    <tr>\n",
       "      <th>9</th>\n",
       "      <td>9.0</td>\n",
       "      <td>0.000000</td>\n",
       "      <td>0.500000</td>\n",
       "      <td>0.500000</td>\n",
       "    </tr>\n",
       "    <tr>\n",
       "      <th>10</th>\n",
       "      <td>10.0</td>\n",
       "      <td>0.333333</td>\n",
       "      <td>0.333333</td>\n",
       "      <td>0.333333</td>\n",
       "    </tr>\n",
       "    <tr>\n",
       "      <th>11</th>\n",
       "      <td>11.0</td>\n",
       "      <td>0.333333</td>\n",
       "      <td>0.000000</td>\n",
       "      <td>0.666667</td>\n",
       "    </tr>\n",
       "    <tr>\n",
       "      <th>12</th>\n",
       "      <td>12.0</td>\n",
       "      <td>0.166667</td>\n",
       "      <td>0.666667</td>\n",
       "      <td>0.166667</td>\n",
       "    </tr>\n",
       "    <tr>\n",
       "      <th>13</th>\n",
       "      <td>13.0</td>\n",
       "      <td>0.500000</td>\n",
       "      <td>0.333333</td>\n",
       "      <td>0.166667</td>\n",
       "    </tr>\n",
       "    <tr>\n",
       "      <th>14</th>\n",
       "      <td>14.0</td>\n",
       "      <td>0.333333</td>\n",
       "      <td>0.166667</td>\n",
       "      <td>0.500000</td>\n",
       "    </tr>\n",
       "    <tr>\n",
       "      <th>15</th>\n",
       "      <td>15.0</td>\n",
       "      <td>0.333333</td>\n",
       "      <td>0.500000</td>\n",
       "      <td>0.166667</td>\n",
       "    </tr>\n",
       "    <tr>\n",
       "      <th>16</th>\n",
       "      <td>16.0</td>\n",
       "      <td>0.833333</td>\n",
       "      <td>0.166667</td>\n",
       "      <td>0.000000</td>\n",
       "    </tr>\n",
       "    <tr>\n",
       "      <th>17</th>\n",
       "      <td>18.0</td>\n",
       "      <td>0.333333</td>\n",
       "      <td>0.666667</td>\n",
       "      <td>0.000000</td>\n",
       "    </tr>\n",
       "    <tr>\n",
       "      <th>18</th>\n",
       "      <td>19.0</td>\n",
       "      <td>0.166667</td>\n",
       "      <td>0.166667</td>\n",
       "      <td>0.666667</td>\n",
       "    </tr>\n",
       "    <tr>\n",
       "      <th>19</th>\n",
       "      <td>20.0</td>\n",
       "      <td>0.666667</td>\n",
       "      <td>0.166667</td>\n",
       "      <td>0.166667</td>\n",
       "    </tr>\n",
       "    <tr>\n",
       "      <th>20</th>\n",
       "      <td>21.0</td>\n",
       "      <td>0.333333</td>\n",
       "      <td>0.666667</td>\n",
       "      <td>0.000000</td>\n",
       "    </tr>\n",
       "    <tr>\n",
       "      <th>21</th>\n",
       "      <td>22.0</td>\n",
       "      <td>0.333333</td>\n",
       "      <td>0.333333</td>\n",
       "      <td>0.333333</td>\n",
       "    </tr>\n",
       "    <tr>\n",
       "      <th>22</th>\n",
       "      <td>23.0</td>\n",
       "      <td>0.000000</td>\n",
       "      <td>0.500000</td>\n",
       "      <td>0.500000</td>\n",
       "    </tr>\n",
       "  </tbody>\n",
       "</table>\n",
       "</div>"
      ],
      "text/plain": [
       "    Hour  optimal_weight_eur  optimal_weight_cad  optimal_weight_jpy\n",
       "0    0.0            0.166667            0.500000            0.333333\n",
       "1    1.0            0.333333            0.500000            0.166667\n",
       "2    2.0            0.166667            0.500000            0.333333\n",
       "3    3.0            0.333333            0.333333            0.333333\n",
       "4    4.0            0.000000            0.500000            0.500000\n",
       "5    5.0            0.333333            0.166667            0.500000\n",
       "6    6.0            0.166667            0.666667            0.166667\n",
       "7    7.0            0.166667            0.333333            0.500000\n",
       "8    8.0            0.333333            0.166667            0.500000\n",
       "9    9.0            0.000000            0.500000            0.500000\n",
       "10  10.0            0.333333            0.333333            0.333333\n",
       "11  11.0            0.333333            0.000000            0.666667\n",
       "12  12.0            0.166667            0.666667            0.166667\n",
       "13  13.0            0.500000            0.333333            0.166667\n",
       "14  14.0            0.333333            0.166667            0.500000\n",
       "15  15.0            0.333333            0.500000            0.166667\n",
       "16  16.0            0.833333            0.166667            0.000000\n",
       "17  18.0            0.333333            0.666667            0.000000\n",
       "18  19.0            0.166667            0.166667            0.666667\n",
       "19  20.0            0.666667            0.166667            0.166667\n",
       "20  21.0            0.333333            0.666667            0.000000\n",
       "21  22.0            0.333333            0.333333            0.333333\n",
       "22  23.0            0.000000            0.500000            0.500000"
      ]
     },
     "execution_count": 353,
     "metadata": {},
     "output_type": "execute_result"
    }
   ],
   "source": [
    "qfunction_hour"
   ]
  },
  {
   "cell_type": "code",
   "execution_count": 354,
   "metadata": {},
   "outputs": [
    {
     "data": {
      "image/png": "[encoded data removed]",
      "text/plain": [
       "<Figure size 432x288 with 1 Axes>"
      ]
     },
     "metadata": {
      "needs_background": "light"
     },
     "output_type": "display_data"
    }
   ],
   "source": [
    "ax = qfunction_rank.set_index('Ranking').plot(kind='bar',stacked=False)\n",
    "lgd = ax.legend(loc='center left', bbox_to_anchor=(1, 0.5))\n",
    "plt.show()"
   ]
  },
  {
   "cell_type": "code",
   "execution_count": 355,
   "metadata": {},
   "outputs": [
    {
     "data": {
      "image/png": "[encoded data removed]",
      "text/plain": [
       "<Figure size 432x288 with 1 Axes>"
      ]
     },
     "metadata": {
      "needs_background": "light"
     },
     "output_type": "display_data"
    }
   ],
   "source": [
    "ax = qfunction_hour.set_index('Hour').plot(kind='bar',stacked=True)\n",
    "lgd = ax.legend(loc='center left', bbox_to_anchor=(1, 0.5))\n",
    "plt.show()"
   ]
  },
  {
   "cell_type": "code",
   "execution_count": 356,
   "metadata": {},
   "outputs": [
    {
     "data": {
      "text/plain": [
       "array([[-0.23435424, -0.23155978, -0.23851384],\n",
       "       [-0.25021065, -0.24801029, -0.25021087],\n",
       "       [-0.06167309, -0.06159981, -0.06189102],\n",
       "       [-0.21159819, -0.23592109, -0.22926527],\n",
       "       [-0.07913484, -0.07551183, -0.08867455],\n",
       "       [-0.10057448, -0.10525996, -0.11832127],\n",
       "       [-0.01957539, -0.02710252, -0.02531218],\n",
       "       [-0.11281159, -0.11155254, -0.13429038],\n",
       "       [-0.1161247 , -0.11019517, -0.12209762],\n",
       "       [-0.25731539, -0.22615937, -0.23645259],\n",
       "       [-0.44604212, -0.51595289, -0.42237766],\n",
       "       [-0.28872551, -0.29523724, -0.32667973],\n",
       "       [-0.139796  , -0.13786345, -0.14570189],\n",
       "       [-0.37548595, -0.40171436, -0.41211652],\n",
       "       [-0.05001272, -0.05020136, -0.0452747 ],\n",
       "       [-0.26783981, -0.26755174, -0.295421  ],\n",
       "       [-0.1059915 , -0.10627249, -0.10747095],\n",
       "       [-0.28074255, -0.28124243, -0.28505922],\n",
       "       [-0.36192533, -0.36441581, -0.37482359],\n",
       "       [-0.54780602, -0.55534484, -0.6604589 ],\n",
       "       [-0.47994002, -0.47387446, -0.50566663],\n",
       "       [-0.36286524, -0.35061579, -0.43418349],\n",
       "       [-0.17569448, -0.17378367, -0.20691982],\n",
       "       [-0.11509364, -0.11704174, -0.12003805],\n",
       "       [-0.21230788, -0.20633543, -0.20874834],\n",
       "       [-0.06560332, -0.08008393, -0.07027975],\n",
       "       [ 0.        ,  0.        ,  0.        ],\n",
       "       [-0.08938786, -0.10505255, -0.08817005],\n",
       "       [-0.05319286, -0.05843021, -0.060697  ],\n",
       "       [-0.08307786, -0.10445743, -0.0810583 ],\n",
       "       [-0.15118731, -0.16400406, -0.15090974],\n",
       "       [-0.82650843, -0.79734856, -0.73607489],\n",
       "       [-0.50140843, -0.50636159, -0.491573  ],\n",
       "       [-0.78373642, -0.79721752, -0.79508015],\n",
       "       [-0.30803333, -0.31095304, -0.30813488],\n",
       "       [-0.18824726, -0.18749936, -0.19634564],\n",
       "       [-0.31553008, -0.3180553 , -0.31917302],\n",
       "       [-0.34044188, -0.35298486, -0.33338649],\n",
       "       [-0.41991979, -0.41472481, -0.44078473],\n",
       "       [-0.54153375, -0.57698218, -0.74941116],\n",
       "       [-0.11744245, -0.11620853, -0.11734661],\n",
       "       [-0.20243302, -0.19896907, -0.19704052],\n",
       "       [-0.20523384, -0.21362819, -0.21202567],\n",
       "       [-0.14497456, -0.14934263, -0.14917415],\n",
       "       [-0.1352575 , -0.1290595 , -0.1285713 ],\n",
       "       [-0.1313694 , -0.12877294, -0.12685084],\n",
       "       [-0.32098269, -0.3111149 , -0.41151468],\n",
       "       [-0.47096829, -0.48361914, -0.5603495 ],\n",
       "       [-0.77795028, -0.76939225, -0.86388186],\n",
       "       [-0.93526201, -0.91191599, -0.92860213],\n",
       "       [-0.74791117, -0.73816211, -0.96600125],\n",
       "       [-0.65524039, -0.63758934, -0.64414736],\n",
       "       [-0.54101139, -0.53961169, -0.57376927],\n",
       "       [-0.7095923 , -0.68618509, -0.69895465],\n",
       "       [-1.61797917, -1.65540915, -1.96941017],\n",
       "       [-1.31621173, -1.29040342, -1.32338655],\n",
       "       [-0.89229739, -0.93266035, -1.01449045],\n",
       "       [-0.52695462, -0.49312249, -0.49074011],\n",
       "       [-0.21741188, -0.19824126, -0.20105355],\n",
       "       [-0.33533525, -0.33653557, -0.34115858],\n",
       "       [-0.13734705, -0.14508051, -0.13479069],\n",
       "       [ 0.        ,  0.        ,  0.        ],\n",
       "       [-0.05173411, -0.05713132, -0.05651078],\n",
       "       [-0.30962982, -0.29496456, -0.39605837],\n",
       "       [-0.35654555, -0.34120989, -0.38519517],\n",
       "       [-0.73895408, -0.73640327, -0.76028345],\n",
       "       [-0.56983781, -0.56169619, -0.58857563],\n",
       "       [-0.35933562, -0.36643335, -0.47998328],\n",
       "       [-0.40181073, -0.39249103, -0.6443436 ],\n",
       "       [-0.19335689, -0.17793452, -0.17665281],\n",
       "       [-0.22110241, -0.21222036, -0.20984218],\n",
       "       [-0.78806987, -0.67479582, -0.69491269],\n",
       "       [-1.03581314, -0.97874367, -1.00128178],\n",
       "       [-0.8484132 , -0.8488685 , -0.84056369],\n",
       "       [-0.69685141, -0.66227054, -0.65880931],\n",
       "       [-0.57823982, -0.56200115, -0.58506256],\n",
       "       [-0.64040879, -0.61401094, -0.59015337],\n",
       "       [-0.99269143, -1.02401881, -1.03892589],\n",
       "       [-1.07355981, -1.05642986, -1.07956301],\n",
       "       [-1.0133179 , -0.9484709 , -1.03404596],\n",
       "       [-0.54171919, -0.53286623, -0.52700256],\n",
       "       [-0.3348228 , -0.28207109, -0.2866791 ],\n",
       "       [-0.08502643, -0.08483934, -0.08874839],\n",
       "       [-0.15333562, -0.15979039, -0.16384884],\n",
       "       [-0.05162558, -0.04804591, -0.04764942],\n",
       "       [-0.06700409, -0.33650451, -0.07256876],\n",
       "       [-0.23686764, -0.21101446, -0.21588028],\n",
       "       [-0.19026179, -0.19110989, -0.18526094],\n",
       "       [-0.24419602, -0.24498307, -0.24556128],\n",
       "       [-0.24689009, -0.22329567, -0.24619634],\n",
       "       [-0.31398783, -0.28240245, -0.28755808],\n",
       "       [-0.0673757 , -0.06042093, -0.0550295 ],\n",
       "       [-0.11498621, -0.1149347 , -0.12198924],\n",
       "       [-0.11474542, -0.11731505, -0.11774352],\n",
       "       [-0.34325086, -0.35009128, -0.34036899],\n",
       "       [-0.47877498, -0.46338024, -0.44097681],\n",
       "       [-0.26664923, -0.24892159, -0.25415721],\n",
       "       [-0.13408517, -0.13635861, -0.13009783],\n",
       "       [-0.19668327, -0.19018578, -0.19313743],\n",
       "       [-0.3120162 , -0.31539265, -0.31477312],\n",
       "       [-0.91516631, -0.95291253, -0.91145623],\n",
       "       [-1.24033987, -1.23878289, -1.22848606],\n",
       "       [-1.4419575 , -1.46598849, -1.40556815],\n",
       "       [-1.07728059, -1.06824512, -1.05261406],\n",
       "       [-0.67420791, -0.68027957, -0.68715891],\n",
       "       [-0.61752165, -0.61910175, -0.60708079],\n",
       "       [-1.07524687, -1.10050032, -1.09574399],\n",
       "       [-0.47299335, -0.49918416, -0.47300562],\n",
       "       [-1.58814811, -1.65371482, -1.6492997 ],\n",
       "       [-0.15283128, -0.15328229, -0.15595532],\n",
       "       [-0.07144237, -0.06464424, -0.06210819],\n",
       "       [-0.09329246, -0.09995766, -0.09840448],\n",
       "       [-0.05237877, -0.05123337, -0.0516362 ],\n",
       "       [-0.062277  , -0.06676197, -0.0629534 ],\n",
       "       [-0.06431707, -0.06170522, -0.06481385],\n",
       "       [-0.13272732, -0.11760725, -0.11555812],\n",
       "       [-0.39196358, -0.38583514, -0.38671129],\n",
       "       [-0.79367925, -0.742655  , -0.73303803],\n",
       "       [-1.20814247, -1.16007162, -1.12154733],\n",
       "       [-0.86116448, -0.8629287 , -0.84469695],\n",
       "       [-0.76886583, -0.67002022, -0.65635737],\n",
       "       [-0.88703607, -0.71862992, -0.72491631],\n",
       "       [-1.26493364, -0.96210048, -0.92017494],\n",
       "       [-1.6507009 , -1.68015571, -1.59110654],\n",
       "       [-1.84051428, -1.77347551, -1.75694983],\n",
       "       [-1.90215087, -1.72386659, -1.74019276],\n",
       "       [-1.28023892, -1.29061119, -1.26657467],\n",
       "       [-0.92582865, -0.87325234, -0.86342597],\n",
       "       [-0.60800814, -0.56949954, -0.57408293],\n",
       "       [-1.33600986, -1.20796982, -1.27973798],\n",
       "       [-0.54442135, -0.54374816, -0.54911736],\n",
       "       [-0.33476293, -0.30148258, -0.30591803],\n",
       "       [-0.26113396, -0.25339998, -0.25896937],\n",
       "       [-0.47552872, -0.44318482, -0.41692234],\n",
       "       [-0.45319828, -0.41525357, -0.40080633],\n",
       "       [-0.32435291, -0.32742887, -0.32455892],\n",
       "       [-0.2364797 , -0.23287761, -0.22963037],\n",
       "       [-0.36036031, -0.36091457, -0.34120771]])"
      ]
     },
     "execution_count": 356,
     "metadata": {},
     "output_type": "execute_result"
    }
   ],
   "source": [
    "learner.Q"
   ]
  },
  {
   "cell_type": "code",
   "execution_count": 417,
   "metadata": {},
   "outputs": [
    {
     "data": {
      "text/plain": [
       "0    0.07924\n",
       "dtype: float64"
      ]
     },
     "execution_count": 417,
     "metadata": {},
     "output_type": "execute_result"
    }
   ],
   "source": [
    "test_return = pd.DataFrame()\n",
    "interval = 1\n",
    "for i in range(0,len(ranking_df_test)-1,interval):\n",
    "#     print(\"ranking\",ranking_df_test.loc[ranking_df_test.index[i]])\n",
    "    rank,hour = tuple(ranking_df_test.loc[ranking_df_test.index[i]].values)[:3],tuple(ranking_df_test.loc[ranking_df_test.index[i]].values)[-1]\n",
    "#     print(rank,hour)\n",
    "    \n",
    "    curr = State(ranking =rank,hour = hour)\n",
    "    optimal_weight = learner.greedy_action(curr).weight\n",
    "    w = np.array([0,0,0])\n",
    "    w[np.array(rank).argmin()] = 1\n",
    "#     if list(w) != list(optimal_weight):\n",
    "#         print(\"rank: \",rank)\n",
    "#         print(\"optimal_weight: \",optimal_weight)\n",
    "#         print(\"w: \",w)\n",
    "    test_df = ret_df[(ret_df_bps.index <= ranking_df_test.index[i+1]) & (ret_df_bps.index > ranking_df_test.index[i])]\n",
    "#     average_rank = rankings[(rankings.index <= ranking_df_test.index[i]) & (rankings.hour == ranking_df_test.index[i].hour)].values.mean(axis=0)[:3]\n",
    "#     print(\"test\",test_df.index[0],test_df.index[-1])\n",
    "\n",
    "#     average_rank /= sum(average_rank)\n",
    "#     opt_weights = np.array(optimal_weight)*average_rank / sum(np.array(optimal_weight)*average_rank)\n",
    "    \n",
    "    test_performance = list(optimal_weight)*test_df\n",
    "    test_port = test_performance.sum(axis=1)\n",
    "    test_return = test_return.append(pd.DataFrame(test_port))\n",
    "\n",
    "test_return.std()*np.sqrt(23*60*252)"
   ]
  },
  {
   "cell_type": "code",
   "execution_count": 430,
   "metadata": {},
   "outputs": [
    {
     "name": "stdout",
     "output_type": "stream",
     "text": [
      "Test agent optimal weights portfolio std:  0    0.068288\n",
      "dtype: float64\n",
      "Test minvar optimal weights portfolio std:  0    0.068238\n",
      "dtype: float64\n"
     ]
    }
   ],
   "source": [
    "test_return = pd.DataFrame()\n",
    "test_return_minvar = pd.DataFrame()\n",
    "interval = 1\n",
    "for i in range(0,len(ranking_df_test)-1,interval):\n",
    "    rank,hour = tuple(ranking_df_test.loc[ranking_df_test.index[i]].values)[:3],tuple(ranking_df_test.loc[ranking_df_test.index[i]].values)[-1]\n",
    "    \n",
    "#     curr = State(ranking =rank,hour = hour)\n",
    "    minvar_weights = np.array([0,0,0])\n",
    "    minvar_weights[np.array(rank).argmin()] = 1\n",
    "    \n",
    "    \n",
    "    optimal_weight = qfunction_rank.loc[qfunction_rank[\"Ranking\"]==rank].values[0][1:]\n",
    "    test_df = ret_df[(ret_df_bps.index <= ranking_df_test.index[i+1]) & (ret_df_bps.index > ranking_df_test.index[i])]\n",
    "    \n",
    "    test_performance = list(optimal_weight)*test_df\n",
    "    test_port = test_performance.sum(axis=1)\n",
    "    test_return = test_return.append(pd.DataFrame(test_port))\n",
    "    \n",
    "    test_performance_minvar = list(minvar_weights)*test_df\n",
    "    test_port_min_var = test_performance_minvar.sum(axis=1)\n",
    "    test_return_minvar = test_return.append(pd.DataFrame(test_port_min_var))\n",
    "\n",
    "print(\"Test agent optimal weights portfolio std: \",test_return.std()*np.sqrt(23*60*252))\n",
    "print(\"Test minvar optimal weights portfolio std: \",test_return_minvar.std()*np.sqrt(23*60*252))"
   ]
  },
  {
   "cell_type": "code",
   "execution_count": 415,
   "metadata": {},
   "outputs": [
    {
     "data": {
      "text/plain": [
       "0    0.071092\n",
       "dtype: float64"
      ]
     },
     "execution_count": 415,
     "metadata": {},
     "output_type": "execute_result"
    }
   ],
   "source": [
    "test_return = pd.DataFrame()\n",
    "interval = 1\n",
    "for i in range(0,len(ranking_df_test)-1,interval):\n",
    "    rank,hour = tuple(ranking_df_test.loc[ranking_df_test.index[i]].values)[:3],tuple(ranking_df_test.loc[ranking_df_test.index[i]].values)[-1]\n",
    "\n",
    "#     curr = State(ranking =rank,hour = hour)\n",
    "\n",
    "    optimal_weight = qfunction_hour.loc[qfunction_hour[\"Hour\"]==hour].values[0][1:]\n",
    "\n",
    "    test_df = ret_df[(ret_df_bps.index <= ranking_df_test.index[i+1]) & (ret_df_bps.index > ranking_df_test.index[i])]\n",
    "    \n",
    "    test_performance = list(optimal_weight)*test_df\n",
    "    test_port = test_performance.sum(axis=1)\n",
    "    test_return = test_return.append(pd.DataFrame(test_port))\n",
    "\n",
    "test_return.std()*np.sqrt(23*60*252)"
   ]
  },
  {
   "cell_type": "code",
   "execution_count": 1515,
   "metadata": {},
   "outputs": [
    {
     "data": {
      "text/plain": [
       "'Test return = 1.608%'"
      ]
     },
     "execution_count": 1515,
     "metadata": {},
     "output_type": "execute_result"
    }
   ],
   "source": [
    "f\"Test return = {round(((1+test_return).cumprod()-1).iloc[-1].values[0]*100,3)}%\""
   ]
  },
  {
   "cell_type": "code",
   "execution_count": 1516,
   "metadata": {},
   "outputs": [
    {
     "data": {
      "text/plain": [
       "[<matplotlib.lines.Line2D at 0x7fc0e8cee9d0>]"
      ]
     },
     "execution_count": 1516,
     "metadata": {},
     "output_type": "execute_result"
    },
    {
     "data": {
      "image/png": "[encoded data removed]",
      "text/plain": [
       "<Figure size 432x288 with 1 Axes>"
      ]
     },
     "metadata": {
      "needs_background": "light"
     },
     "output_type": "display_data"
    }
   ],
   "source": [
    "plt.plot((1+test_return).cumprod() -1)"
   ]
  }
 ],
 "metadata": {
  "kernelspec": {
   "display_name": "Python 3",
   "language": "python",
   "name": "python3"
  },
  "language_info": {
   "codemirror_mode": {
    "name": "ipython",
    "version": 3
   },
   "file_extension": ".py",
   "mimetype": "text/x-python",
   "name": "python",
   "nbconvert_exporter": "python",
   "pygments_lexer": "ipython3",
   "version": "3.8.5"
  }
 },
 "nbformat": 4,
 "nbformat_minor": 2
}
